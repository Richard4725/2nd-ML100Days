{
 "cells": [
  {
   "cell_type": "markdown",
   "metadata": {},
   "source": [
    "## 練習時間\n",
    "相信大家目前都能夠初步了解機器學習專案的流程及步驟，今天的作業希望大家能夠看看全球機器學習巨頭們在做的機器學習專案。以 google 為例，下圖是 Google 內部專案使用機器學習的數量，隨著時間進展，現在早已超過 2000 個專案在使用 ML。"
   ]
  },
  {
   "cell_type": "markdown",
   "metadata": {},
   "source": [
    "![image](https://cdn-images-1.medium.com/max/800/1*U_L8qI8RmYS-MOBrYvXhSA.png)"
   ]
  },
  {
   "cell_type": "markdown",
   "metadata": {},
   "source": [
    "底下幫同學整理幾間知名企業的 blog 或機器學習網站 (自行搜尋也可)，請挑選一篇文章閱讀並試著回答\n",
    "1. 專案的目標？ (要解決什麼問題）\n",
    "2. 使用的技術是？ (只需知道名稱即可，例如：使用 CNN 卷積神經網路做影像分類)\n",
    "3. 資料來源？ "
   ]
  },
  {
   "cell_type": "markdown",
   "metadata": {},
   "source": [
    "- [Google AI blog](https://ai.googleblog.com/)\n",
    "- [Facebook Research blog](https://research.fb.com/blog/)\n",
    "- [Apple machine learning journal](https://machinelearning.apple.com/)\n",
    "- [機器之心](https://www.jiqizhixin.com/)\n",
    "- [雷鋒網](http://www.leiphone.com/category/ai)"
   ]
  },
  {
   "cell_type": "code",
   "execution_count": null,
   "metadata": {
    "collapsed": true
   },
   "outputs": [],
   "source": [
    "專案的目標？ (要解決什麼問題）Study Google AI blog:Introducing Translatotron: An End-to-End Speech-to-Speech Translation Model\n",
    "使用此技術,可以把西班牙語直接翻譯成英文,不需經過傳統先翻成文字,在轉翻成另一語言,然後合成聲音,原始方法,喪失說話者的語調與口氣,無法感受說\n",
    "話者的情緒,如Apple SIRIS一樣呆板,且原本三層出裡也會增加error機率,這種End-to-End Speech-to-Speech 具有優勢.\n",
    "        \n",
    "使用的技術是？Weakly Supervised Data, automatic speech recognition\n",
    "        \n",
    "資料來源？文中似乎有說,資料取得不見得容易,應該可能從一般語言教學機構或是外交翻譯人員等收集\n",
    "        \n",
    "方法:\n",
    "        In “Direct speech-to-speech translation with a sequence-to-sequence model”, we propose an experimental\n",
    "        new system that is based on a single attentive sequence-to-sequence model for direct speech-to-speech\n",
    "        translation without relying on intermediate text representation. Dubbed Translatotron, this system avoids \n",
    "        dividing the task into separate stages, providing a few advantages over cascaded systems, including faster\n",
    "        inference speed, naturally avoiding compounding errors between recognition and translation, making it \n",
    "        straightforward to retain the voice of the original speaker after translation, and better handling of \n",
    "        words that do not need to be translated (e.g., names and proper nouns).\n",
    "        \n",
    "Conclusion:\n",
    "        \n",
    "To the best of our knowledge, Translatotron is the first end-to-end model that can directly translate\n",
    "speech from one language into speech in another language. It is also able to retain the source speaker’s\n",
    "voice in the translated speech. We hope that this work can serve as a starting point for future research\n",
    "on end-to-end speech-to-speech translation systems."
   ]
  }
 ],
 "metadata": {
  "kernelspec": {
   "display_name": "Python 3",
   "language": "python",
   "name": "python3"
  },
  "language_info": {
   "codemirror_mode": {
    "name": "ipython",
    "version": 3
   },
   "file_extension": ".py",
   "mimetype": "text/x-python",
   "name": "python",
   "nbconvert_exporter": "python",
   "pygments_lexer": "ipython3",
   "version": "3.6.3"
  }
 },
 "nbformat": 4,
 "nbformat_minor": 2
}
