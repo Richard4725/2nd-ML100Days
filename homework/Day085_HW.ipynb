{
 "cells": [
  {
   "cell_type": "markdown",
   "metadata": {},
   "source": [
    "## Work\n",
    "1. 試改變 monitor \"Validation Accuracy\" 並比較結果\n",
    "2. 調整 earlystop 的等待次數至 10, 25 並比較結果"
   ]
  },
  {
   "cell_type": "code",
   "execution_count": 1,
   "metadata": {},
   "outputs": [
    {
     "name": "stderr",
     "output_type": "stream",
     "text": [
      "Using TensorFlow backend.\n"
     ]
    }
   ],
   "source": [
    "import os\n",
    "import keras\n",
    "import matplotlib.pyplot as plt\n",
    "%matplotlib inline\n",
    "\n",
    "\n",
    "# Disable GPU\n",
    "os.environ[\"CUDA_VISIBLE_DEVICES\"] = \"\""
   ]
  },
  {
   "cell_type": "code",
   "execution_count": 2,
   "metadata": {},
   "outputs": [],
   "source": [
    "train, test = keras.datasets.cifar10.load_data()"
   ]
  },
  {
   "cell_type": "code",
   "execution_count": 3,
   "metadata": {},
   "outputs": [],
   "source": [
    "## 資料前處理\n",
    "def preproc_x(x, flatten=True):\n",
    "    x = x / 255.\n",
    "    if flatten:\n",
    "        x = x.reshape((len(x), -1))\n",
    "    return x\n",
    "\n",
    "def preproc_y(y, num_classes=10):\n",
    "    if y.shape[-1] == 1:\n",
    "        y = keras.utils.to_categorical(y, num_classes)\n",
    "    return y    "
   ]
  },
  {
   "cell_type": "code",
   "execution_count": 4,
   "metadata": {},
   "outputs": [],
   "source": [
    "x_train, y_train = train\n",
    "x_test, y_test = test\n",
    "\n",
    "# Preproc the inputs\n",
    "x_train = preproc_x(x_train)\n",
    "x_test = preproc_x(x_test)\n",
    "\n",
    "# Preprc the outputs\n",
    "y_train = preproc_y(y_train)\n",
    "y_test = preproc_y(y_test)"
   ]
  },
  {
   "cell_type": "code",
   "execution_count": 5,
   "metadata": {},
   "outputs": [],
   "source": [
    "from keras.layers import BatchNormalization\n",
    "\n",
    "\"\"\"\n",
    "建立神經網路，並加入 BN layer\n",
    "\"\"\"\n",
    "def build_mlp(input_shape, output_units=10, num_neurons=[512, 256, 128]):\n",
    "    input_layer = keras.layers.Input(input_shape)\n",
    "    \n",
    "    for i, n_units in enumerate(num_neurons):\n",
    "        if i == 0:\n",
    "            x = keras.layers.Dense(units=n_units, \n",
    "                                   activation=\"relu\", \n",
    "                                   name=\"hidden_layer\"+str(i+1))(input_layer)\n",
    "            x = BatchNormalization()(x)\n",
    "        else:\n",
    "            x = keras.layers.Dense(units=n_units, \n",
    "                                   activation=\"relu\", \n",
    "                                   name=\"hidden_layer\"+str(i+1))(x)\n",
    "            x = BatchNormalization()(x)\n",
    "    \n",
    "    out = keras.layers.Dense(units=output_units, activation=\"softmax\", name=\"output\")(x)\n",
    "    \n",
    "    model = keras.models.Model(inputs=[input_layer], outputs=[out])\n",
    "    return model"
   ]
  },
  {
   "cell_type": "code",
   "execution_count": 6,
   "metadata": {},
   "outputs": [],
   "source": [
    "\"\"\"Code Here\n",
    "設定超參數\n",
    "\"\"\"\n",
    "## 超參數設定\n",
    "LEARNING_RATE = 1e-3\n",
    "EPOCHS = 50\n",
    "BATCH_SIZE = 1024\n",
    "MOMENTUM = 0.95"
   ]
  },
  {
   "cell_type": "code",
   "execution_count": 18,
   "metadata": {},
   "outputs": [
    {
     "name": "stdout",
     "output_type": "stream",
     "text": [
      "Model: \"model_7\"\n",
      "_________________________________________________________________\n",
      "Layer (type)                 Output Shape              Param #   \n",
      "=================================================================\n",
      "input_7 (InputLayer)         (None, 3072)              0         \n",
      "_________________________________________________________________\n",
      "hidden_layer1 (Dense)        (None, 512)               1573376   \n",
      "_________________________________________________________________\n",
      "batch_normalization_19 (Batc (None, 512)               2048      \n",
      "_________________________________________________________________\n",
      "hidden_layer2 (Dense)        (None, 256)               131328    \n",
      "_________________________________________________________________\n",
      "batch_normalization_20 (Batc (None, 256)               1024      \n",
      "_________________________________________________________________\n",
      "hidden_layer3 (Dense)        (None, 128)               32896     \n",
      "_________________________________________________________________\n",
      "batch_normalization_21 (Batc (None, 128)               512       \n",
      "_________________________________________________________________\n",
      "output (Dense)               (None, 10)                1290      \n",
      "=================================================================\n",
      "Total params: 1,742,474\n",
      "Trainable params: 1,740,682\n",
      "Non-trainable params: 1,792\n",
      "_________________________________________________________________\n",
      "Train on 50000 samples, validate on 10000 samples\n",
      "Epoch 1/50\n",
      "50000/50000 [==============================] - 5s 109us/step - loss: 2.1986 - accuracy: 0.2711 - val_loss: 2.1431 - val_accuracy: 0.1981\n",
      "Epoch 2/50\n",
      "50000/50000 [==============================] - 4s 81us/step - loss: 1.7400 - accuracy: 0.3926 - val_loss: 1.9855 - val_accuracy: 0.2844\n",
      "Epoch 3/50\n",
      "50000/50000 [==============================] - 4s 81us/step - loss: 1.6165 - accuracy: 0.4339 - val_loss: 1.8342 - val_accuracy: 0.3645\n",
      "Epoch 4/50\n",
      "50000/50000 [==============================] - 4s 81us/step - loss: 1.5443 - accuracy: 0.4593 - val_loss: 1.7374 - val_accuracy: 0.3898\n",
      "Epoch 5/50\n",
      "50000/50000 [==============================] - 4s 83us/step - loss: 1.4884 - accuracy: 0.4785 - val_loss: 1.6416 - val_accuracy: 0.4280\n",
      "Epoch 6/50\n",
      "50000/50000 [==============================] - 4s 81us/step - loss: 1.4416 - accuracy: 0.4953 - val_loss: 1.6039 - val_accuracy: 0.4381\n",
      "Epoch 7/50\n",
      "50000/50000 [==============================] - 4s 82us/step - loss: 1.4020 - accuracy: 0.5103 - val_loss: 1.5540 - val_accuracy: 0.4493\n",
      "Epoch 8/50\n",
      "50000/50000 [==============================] - 4s 82us/step - loss: 1.3650 - accuracy: 0.5252 - val_loss: 1.5306 - val_accuracy: 0.4556\n",
      "Epoch 9/50\n",
      "50000/50000 [==============================] - 4s 82us/step - loss: 1.3327 - accuracy: 0.5361 - val_loss: 1.5123 - val_accuracy: 0.4662\n",
      "Epoch 10/50\n",
      "50000/50000 [==============================] - 4s 82us/step - loss: 1.3020 - accuracy: 0.5481 - val_loss: 1.4935 - val_accuracy: 0.4681\n",
      "Epoch 11/50\n",
      "50000/50000 [==============================] - 4s 82us/step - loss: 1.2740 - accuracy: 0.5580 - val_loss: 1.4921 - val_accuracy: 0.4742\n",
      "Epoch 12/50\n",
      "50000/50000 [==============================] - 4s 82us/step - loss: 1.2481 - accuracy: 0.5673 - val_loss: 1.4821 - val_accuracy: 0.4748\n",
      "Epoch 13/50\n",
      "50000/50000 [==============================] - 4s 82us/step - loss: 1.2220 - accuracy: 0.5772 - val_loss: 1.4778 - val_accuracy: 0.4796\n",
      "Epoch 14/50\n",
      "50000/50000 [==============================] - 4s 81us/step - loss: 1.1957 - accuracy: 0.5868 - val_loss: 1.4729 - val_accuracy: 0.4774\n",
      "Epoch 15/50\n",
      "50000/50000 [==============================] - 4s 81us/step - loss: 1.1714 - accuracy: 0.5963 - val_loss: 1.4694 - val_accuracy: 0.4837\n",
      "Epoch 16/50\n",
      "50000/50000 [==============================] - 4s 85us/step - loss: 1.1468 - accuracy: 0.6058 - val_loss: 1.4610 - val_accuracy: 0.4863\n",
      "Epoch 17/50\n",
      "50000/50000 [==============================] - 4s 82us/step - loss: 1.1236 - accuracy: 0.6148 - val_loss: 1.4584 - val_accuracy: 0.4897\n",
      "Epoch 18/50\n",
      "50000/50000 [==============================] - 4s 82us/step - loss: 1.1026 - accuracy: 0.6231 - val_loss: 1.4623 - val_accuracy: 0.4836\n",
      "Epoch 19/50\n",
      "50000/50000 [==============================] - 4s 82us/step - loss: 1.0783 - accuracy: 0.6322 - val_loss: 1.4619 - val_accuracy: 0.4904\n",
      "Epoch 20/50\n",
      "50000/50000 [==============================] - 4s 82us/step - loss: 1.0572 - accuracy: 0.6397 - val_loss: 1.4622 - val_accuracy: 0.4925\n",
      "Epoch 21/50\n",
      "50000/50000 [==============================] - 4s 82us/step - loss: 1.0345 - accuracy: 0.6496 - val_loss: 1.4625 - val_accuracy: 0.4914\n",
      "Epoch 22/50\n",
      "50000/50000 [==============================] - 4s 86us/step - loss: 1.0128 - accuracy: 0.6589 - val_loss: 1.4525 - val_accuracy: 0.4939\n",
      "Epoch 23/50\n",
      "50000/50000 [==============================] - 4s 83us/step - loss: 0.9920 - accuracy: 0.6653 - val_loss: 1.4594 - val_accuracy: 0.4880\n",
      "Epoch 24/50\n",
      "50000/50000 [==============================] - 4s 86us/step - loss: 0.9715 - accuracy: 0.6756 - val_loss: 1.4572 - val_accuracy: 0.4962\n",
      "Epoch 25/50\n",
      "50000/50000 [==============================] - 4s 82us/step - loss: 0.9510 - accuracy: 0.6810 - val_loss: 1.4656 - val_accuracy: 0.4880\n",
      "Epoch 26/50\n",
      "50000/50000 [==============================] - 4s 82us/step - loss: 0.9293 - accuracy: 0.6903 - val_loss: 1.4688 - val_accuracy: 0.4930\n",
      "Epoch 27/50\n",
      "50000/50000 [==============================] - 4s 83us/step - loss: 0.9113 - accuracy: 0.6976 - val_loss: 1.4764 - val_accuracy: 0.4921\n",
      "Epoch 28/50\n",
      "50000/50000 [==============================] - 4s 86us/step - loss: 0.8902 - accuracy: 0.7050 - val_loss: 1.4824 - val_accuracy: 0.4899\n",
      "Epoch 29/50\n",
      "50000/50000 [==============================] - 4s 83us/step - loss: 0.8684 - accuracy: 0.7140 - val_loss: 1.4689 - val_accuracy: 0.4998\n",
      "Epoch 30/50\n",
      "50000/50000 [==============================] - 4s 82us/step - loss: 0.8474 - accuracy: 0.7213 - val_loss: 1.4824 - val_accuracy: 0.4999\n",
      "Epoch 31/50\n",
      "50000/50000 [==============================] - 4s 86us/step - loss: 0.8292 - accuracy: 0.7303 - val_loss: 1.5094 - val_accuracy: 0.4893\n",
      "Epoch 32/50\n",
      "50000/50000 [==============================] - 4s 85us/step - loss: 0.8097 - accuracy: 0.7357 - val_loss: 1.4966 - val_accuracy: 0.4967\n",
      "Epoch 33/50\n",
      "50000/50000 [==============================] - 4s 82us/step - loss: 0.7893 - accuracy: 0.7451 - val_loss: 1.5079 - val_accuracy: 0.4942\n",
      "Epoch 34/50\n",
      "50000/50000 [==============================] - 4s 82us/step - loss: 0.7689 - accuracy: 0.7549 - val_loss: 1.5024 - val_accuracy: 0.4933\n",
      "Epoch 35/50\n",
      "50000/50000 [==============================] - 4s 81us/step - loss: 0.7509 - accuracy: 0.7607 - val_loss: 1.5054 - val_accuracy: 0.4940\n",
      "Epoch 36/50\n",
      "50000/50000 [==============================] - 4s 81us/step - loss: 0.7304 - accuracy: 0.7680 - val_loss: 1.5240 - val_accuracy: 0.4965\n",
      "Epoch 37/50\n",
      "50000/50000 [==============================] - 4s 81us/step - loss: 0.7117 - accuracy: 0.7753 - val_loss: 1.5434 - val_accuracy: 0.4922\n",
      "Epoch 38/50\n",
      "50000/50000 [==============================] - 4s 81us/step - loss: 0.6949 - accuracy: 0.7821 - val_loss: 1.5395 - val_accuracy: 0.4935\n",
      "Epoch 39/50\n",
      "50000/50000 [==============================] - 4s 81us/step - loss: 0.6766 - accuracy: 0.7890 - val_loss: 1.5519 - val_accuracy: 0.4907\n",
      "Epoch 40/50\n",
      "50000/50000 [==============================] - 4s 81us/step - loss: 0.6574 - accuracy: 0.7972 - val_loss: 1.5727 - val_accuracy: 0.4855\n",
      "Epoch 00040: early stopping\n"
     ]
    }
   ],
   "source": [
    "# 載入 Callbacks\n",
    "\"\"\"Code Here\n",
    "設定 callbacks: Earlystop\n",
    "\"\"\"\n",
    "\n",
    "results = {}\n",
    "\"\"\"Code Here\n",
    "撰寫你的訓練流程並將結果用 dictionary 紀錄\n",
    "\"\"\"\n",
    "\n",
    "from keras.callbacks import EarlyStopping\n",
    "\n",
    "earlystop = EarlyStopping(monitor=\"val_accuracy\", \n",
    "                          patience=10, \n",
    "                          verbose=1\n",
    "                          )\n",
    "\n",
    "model = build_mlp(input_shape=x_train.shape[1:])\n",
    "model.summary()\n",
    "optimizer = keras.optimizers.SGD(lr=LEARNING_RATE, nesterov=True, momentum=MOMENTUM)\n",
    "model.compile(loss=\"categorical_crossentropy\", metrics=[\"accuracy\"], optimizer=optimizer)\n",
    "\n",
    "model.fit(x_train, y_train, \n",
    "          epochs=EPOCHS, \n",
    "          batch_size=BATCH_SIZE, \n",
    "          validation_data=(x_test, y_test), \n",
    "          shuffle=True,\n",
    "          callbacks=[earlystop]\n",
    "         )\n",
    "\n",
    "# Collect results\n",
    "train_loss = model.history.history[\"loss\"]\n",
    "valid_loss = model.history.history[\"val_loss\"]\n",
    "train_acc = model.history.history[\"accuracy\"]\n",
    "valid_acc = model.history.history[\"val_accuracy\"]"
   ]
  },
  {
   "cell_type": "code",
   "execution_count": 19,
   "metadata": {},
   "outputs": [
    {
     "data": {
      "image/png": "[encoded data removed]",
      "text/plain": [
       "<Figure size 432x288 with 1 Axes>"
      ]
     },
     "metadata": {
      "needs_background": "light"
     },
     "output_type": "display_data"
    },
    {
     "data": {
      "image/png": "[encoded data removed]",
      "text/plain": [
       "<Figure size 432x288 with 1 Axes>"
      ]
     },
     "metadata": {
      "needs_background": "light"
     },
     "output_type": "display_data"
    }
   ],
   "source": [
    "\n",
    "\n",
    "import matplotlib.pyplot as plt\n",
    "%matplotlib inline\n",
    "\n",
    "plt.plot(range(len(train_loss)), train_loss, label=\"train loss\")\n",
    "plt.plot(range(len(valid_loss)), valid_loss, label=\"valid loss\")\n",
    "plt.legend()\n",
    "plt.title(\"Loss\")\n",
    "plt.show()\n",
    "\n",
    "plt.plot(range(len(train_acc)), train_acc, label=\"train accuracy\")\n",
    "plt.plot(range(len(valid_acc)), valid_acc, label=\"valid accuracy\")\n",
    "plt.legend()\n",
    "plt.title(\"Accuracy\")\n",
    "plt.show()\n"
   ]
  },
  {
   "cell_type": "code",
   "execution_count": null,
   "metadata": {},
   "outputs": [],
   "source": []
  }
 ],
 "metadata": {
  "kernelspec": {
   "display_name": "Python 3",
   "language": "python",
   "name": "python3"
  },
  "language_info": {
   "codemirror_mode": {
    "name": "ipython",
    "version": 3
   },
   "file_extension": ".py",
   "mimetype": "text/x-python",
   "name": "python",
   "nbconvert_exporter": "python",
   "pygments_lexer": "ipython3",
   "version": "3.6.9"
  }
 },
 "nbformat": 4,
 "nbformat_minor": 2
}
