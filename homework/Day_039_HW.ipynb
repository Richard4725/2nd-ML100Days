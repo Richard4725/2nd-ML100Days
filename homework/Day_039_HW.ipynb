{
 "cells": [
  {
   "cell_type": "markdown",
   "metadata": {},
   "source": [
    "## [作業重點]\n",
    "清楚了解 L1, L2 的意義與差異為何，並了解 LASSO 與 Ridge 之間的差異與使用情境"
   ]
  },
  {
   "cell_type": "markdown",
   "metadata": {},
   "source": [
    "## 作業"
   ]
  },
  {
   "cell_type": "markdown",
   "metadata": {},
   "source": [
    "請閱讀相關文獻，並回答下列問題\n",
    "\n",
    "[脊回歸 (Ridge Regression)](https://blog.csdn.net/daunxx/article/details/51578787)\n",
    "[Linear, Ridge, Lasso Regression 本質區別](https://www.zhihu.com/question/38121173)\n",
    "\n",
    "1. LASSO 回歸可以被用來作為 Feature selection 的工具，請了解 LASSO 模型為什麼可用來作 Feature selection\n",
    "2. 當自變數 (X) 存在高度共線性時，Ridge Regression 可以處理這樣的問題嗎?\n"
   ]
  },
  {
   "cell_type": "code",
   "execution_count": null,
   "metadata": {
    "collapsed": true
   },
   "outputs": [],
   "source": [
    "1.ANS:\n",
    "https://www.zhihu.com/question/38121173\n",
    "\n",
    "    Ridge往往会导致所有参数都缩小但不至于消失，而Lasso会进行特征选择——不重要的参数会被缩减为0。\n",
    "    原因是LASSO 的L1正規化後,系統輪廓是尖銳的,呈現菱形,並在wi=0處,形成一個交點,在縱軸上的交點是稀疏性.sparse solution.可以把其他不\n",
    "    重要的feature參數變為零,剩下就是正要的特徵,達到Feature selection\n",
    "2.YES,ANS:https://www.jamleecute.com/regularized-regression-ridge-lasso-elastic/\n",
    "    https://kknews.cc/other/8xzg4bl.html\n",
    "        \n",
    "    一、嶺回歸\n",
    "\n",
    "嶺回歸（ridge regression）是一種專用於共線性數據分析的有偏估計，實質上就是一種改良的最小二乘法。我們知道，最小二乘法是通過優化\n",
    "\n",
    "最小二乘法優化公式\n",
    "\n",
    "而嶺回歸則是通過優化\n",
    "\n",
    "\n",
    "嶺回歸優化公式\n",
    "\n",
    "通過，上面兩個公式可以發現其實嶺回歸只是在平方差的後面加一項。其實，這就是我們所說的正則化，常見的正則化有L1正則化和L2\n",
    "正則化還有將兩種一起結合用。而這裡是屬於L2正則化，通過正則化可以防止訓練的模型過擬合。過擬合就是指，模型對於訓練數據有很好\n",
    "的判斷能力，而對於未知數據的預測能力並不是很好，為什麼會這樣呢？因為，在訓練模型的過程中，有可能將訓練數據中的噪聲加入到模型中了。\n",
    "那這和最小二乘法又有什麼關係呢？在介紹最小二乘法的時候，有提到最小二乘法的方程組個數要多於未知數的個數，而且特徵之間不存在共線性。\n",
    "共線性就是指，如果輸入有多個x1、x2...，也許x1和x2之間的特徵是相似的。如果，遇到上面的問題應該怎麼處理呢？常用的方法有兩種，\n",
    "第一種通過人工判斷去掉共線性的特徵，也就是從x1和x2中去掉一個（對於某些情況可能很難實現），第二種通過正則化的方式，\n",
    "來實現減少輸入參數（也稱為降維）。通過觀察兩個式子可以發現，其中α大於等於0，如果α=0時，就等價於最小二乘法。如果阿爾法大於0，\n",
    "下面式子中的權重必定會小於上面公式中的權重，當α到一定值的時候，權重會趨於0，從而達到去除共線性的參數。"
   ]
  }
 ],
 "metadata": {
  "kernelspec": {
   "display_name": "Python 3",
   "language": "python",
   "name": "python3"
  },
  "language_info": {
   "codemirror_mode": {
    "name": "ipython",
    "version": 3
   },
   "file_extension": ".py",
   "mimetype": "text/x-python",
   "name": "python",
   "nbconvert_exporter": "python",
   "pygments_lexer": "ipython3",
   "version": "3.6.3"
  }
 },
 "nbformat": 4,
 "nbformat_minor": 2
}
