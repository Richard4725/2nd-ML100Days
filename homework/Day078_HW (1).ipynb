{
 "cells": [
  {
   "cell_type": "markdown",
   "metadata": {},
   "source": [
    "## Work\n",
    "1. 請嘗試將 preproc_x 替換成以每筆資料的 min/max 進行標準化至 -1 ~ 1 間，再進行訓練\n",
    "2. 請嘗試將 mlp 疊更深 (e.g 5~10 層)，進行訓練後觀察 learning curve 的走勢\n",
    "3. (optional) 請改用 GPU 進行訓練 (如果你有 GPU 的話)，比較使用 CPU 與 GPU 的訓練速度"
   ]
  },
  {
   "cell_type": "code",
   "execution_count": 13,
   "metadata": {},
   "outputs": [
    {
     "name": "stderr",
     "output_type": "stream",
     "text": [
      "'nvidia-smi' 不是內部或外部命令、可執行的程式或批次檔。\n"
     ]
    }
   ],
   "source": [
    "## \n",
    "\"\"\"\n",
    "Your code here (optional)\n",
    "確認硬體資源\n",
    "\"\"\"\n",
    "## 確認硬體資源 (如果你是在 Linux, 若是在 Windows, 請參考 https://blog.csdn.net/idwtwt/article/details/78017565)\n",
    "!nvidia-smi"
   ]
  },
  {
   "cell_type": "code",
   "execution_count": 14,
   "metadata": {},
   "outputs": [],
   "source": [
    "import os\n",
    "import keras\n",
    "\n",
    "# 請嘗試設定 GPU：os.environ\n",
    "# 本範例不需使用 GPU, 將 GPU 設定為 \"無\"\n",
    "os.environ[\"CUDA_VISIBLE_DEVICES\"] = \"\""
   ]
  },
  {
   "cell_type": "code",
   "execution_count": 15,
   "metadata": {},
   "outputs": [],
   "source": [
    "train, test = keras.datasets.cifar10.load_data()"
   ]
  },
  {
   "cell_type": "code",
   "execution_count": 16,
   "metadata": {},
   "outputs": [],
   "source": [
    "## 資料前處理\n",
    "\"\"\"\n",
    "Your code here\n",
    "  \"\"\"\n",
    "def preproc_x(x, flatten=True):\n",
    "    x = x / 255.\n",
    "    if flatten:\n",
    "        x = x.reshape((len(x), -1))\n",
    "    return x\n",
    "\n",
    "def Normalization2(x):\n",
    "    return [(float(i)-np.mean(x))/(max(x)-min(x)) for i in x]\n",
    "\n",
    "\n",
    "def preproc_y(y, num_classes=10):\n",
    "    if y.shape[-1] == 1:\n",
    "        y = keras.utils.to_categorical(y, num_classes)\n",
    "    return y  \n",
    "\n"
   ]
  },
  {
   "cell_type": "code",
   "execution_count": 48,
   "metadata": {},
   "outputs": [
    {
     "name": "stdout",
     "output_type": "stream",
     "text": [
      "50000\n",
      "50000\n",
      "(50000, 3072)\n"
     ]
    }
   ],
   "source": [
    "x_train, y_train = train\n",
    "x_test, y_test = test\n",
    "\n",
    "# Preproc the inputs\n",
    "print(x_train.shape[0])\n",
    "print(len(x_train))\n",
    "x_train = preproc_x(x_train)\n",
    "\n",
    "#for i in range(len(x_train))\n",
    " #   x_train() = Normalization2(x_train1)\n",
    "\n",
    "x_test = preproc_x(x_test)\n",
    "print(x_train.shape)\n",
    "\n",
    "\n",
    "# Preprc the outputs\n",
    "y_train = preproc_y(y_train)\n",
    "y_test = preproc_y(y_test)"
   ]
  },
  {
   "cell_type": "code",
   "execution_count": 6,
   "metadata": {},
   "outputs": [
    {
     "name": "stdout",
     "output_type": "stream",
     "text": [
      "Model: \"model_1\"\n",
      "_________________________________________________________________\n",
      "Layer (type)                 Output Shape              Param #   \n",
      "=================================================================\n",
      "input_1 (InputLayer)         (None, 3072)              0         \n",
      "_________________________________________________________________\n",
      "hidden_layer1 (Dense)        (None, 512)               1573376   \n",
      "_________________________________________________________________\n",
      "hidden_layer2 (Dense)        (None, 256)               131328    \n",
      "_________________________________________________________________\n",
      "hidden_layer3 (Dense)        (None, 128)               32896     \n",
      "_________________________________________________________________\n",
      "hidden_layer4 (Dense)        (None, 64)                8256      \n",
      "_________________________________________________________________\n",
      "hidden_layer5 (Dense)        (None, 32)                2080      \n",
      "_________________________________________________________________\n",
      "hidden_layer6 (Dense)        (None, 16)                528       \n",
      "_________________________________________________________________\n",
      "output (Dense)               (None, 10)                170       \n",
      "=================================================================\n",
      "Total params: 1,748,634\n",
      "Trainable params: 1,748,634\n",
      "Non-trainable params: 0\n",
      "_________________________________________________________________\n"
     ]
    }
   ],
   "source": [
    "\"\"\"Code Here\n",
    "建立你的神經網路\n",
    "\"\"\"\n",
    "def build_mlp(input_shape, output_units=10, num_neurons=[512, 256, 128, 64, 32, 16]):\n",
    "    input_layer = keras.layers.Input(input_shape)\n",
    "    \n",
    "    for i, n_units in enumerate(num_neurons):\n",
    "        if i == 0:\n",
    "            x = keras.layers.Dense(units=n_units, activation=\"relu\", name=\"hidden_layer\"+str(i+1))(input_layer)\n",
    "        else:\n",
    "            x = keras.layers.Dense(units=n_units, activation=\"relu\", name=\"hidden_layer\"+str(i+1))(x)\n",
    "            \n",
    "    \n",
    "    out = keras.layers.Dense(units=output_units, activation=\"softmax\", name=\"output\")(x)\n",
    "    \n",
    "    model = keras.models.Model(inputs=[input_layer], outputs=[out])\n",
    "    return model\n",
    "\n",
    "model = build_mlp(input_shape=x_train.shape[1:])\n",
    "model.summary()"
   ]
  },
  {
   "cell_type": "code",
   "execution_count": 7,
   "metadata": {},
   "outputs": [],
   "source": [
    "## 超參數設定\n",
    "LEARNING_RATE = 0.001\n",
    "EPOCHS = 100\n",
    "BATCH_SIZE = 256"
   ]
  },
  {
   "cell_type": "code",
   "execution_count": 8,
   "metadata": {},
   "outputs": [],
   "source": [
    "optimizer = keras.optimizers.Adam(lr=LEARNING_RATE)\n",
    "model.compile(loss=\"categorical_crossentropy\", metrics=[\"accuracy\"], optimizer=optimizer)"
   ]
  },
  {
   "cell_type": "code",
   "execution_count": 9,
   "metadata": {},
   "outputs": [
    {
     "name": "stdout",
     "output_type": "stream",
     "text": [
      "Train on 50000 samples, validate on 10000 samples\n",
      "Epoch 1/100\n",
      "50000/50000 [==============================] - 4s 88us/step - loss: 2.1286 - accuracy: 0.1996 - val_loss: 1.9524 - val_accuracy: 0.2701\n",
      "Epoch 2/100\n",
      "50000/50000 [==============================] - 4s 78us/step - loss: 1.8778 - accuracy: 0.3117 - val_loss: 1.8224 - val_accuracy: 0.3421\n",
      "Epoch 3/100\n",
      "50000/50000 [==============================] - 4s 78us/step - loss: 1.7733 - accuracy: 0.3554 - val_loss: 1.6959 - val_accuracy: 0.3873\n",
      "Epoch 4/100\n",
      "50000/50000 [==============================] - 4s 78us/step - loss: 1.6792 - accuracy: 0.3935 - val_loss: 1.6528 - val_accuracy: 0.3991\n",
      "Epoch 5/100\n",
      "50000/50000 [==============================] - 4s 77us/step - loss: 1.6075 - accuracy: 0.4213 - val_loss: 1.6254 - val_accuracy: 0.4141\n",
      "Epoch 6/100\n",
      "50000/50000 [==============================] - 4s 79us/step - loss: 1.5552 - accuracy: 0.4417 - val_loss: 1.5653 - val_accuracy: 0.4342\n",
      "Epoch 7/100\n",
      "50000/50000 [==============================] - 4s 77us/step - loss: 1.5152 - accuracy: 0.4550 - val_loss: 1.5675 - val_accuracy: 0.4424\n",
      "Epoch 8/100\n",
      "50000/50000 [==============================] - 4s 78us/step - loss: 1.4965 - accuracy: 0.4654 - val_loss: 1.5256 - val_accuracy: 0.4490\n",
      "Epoch 9/100\n",
      "50000/50000 [==============================] - 4s 78us/step - loss: 1.4530 - accuracy: 0.4808 - val_loss: 1.4663 - val_accuracy: 0.4759\n",
      "Epoch 10/100\n",
      "50000/50000 [==============================] - 4s 77us/step - loss: 1.4310 - accuracy: 0.4874 - val_loss: 1.4605 - val_accuracy: 0.4784\n",
      "Epoch 11/100\n",
      "50000/50000 [==============================] - 4s 78us/step - loss: 1.4086 - accuracy: 0.4962 - val_loss: 1.4443 - val_accuracy: 0.4844\n",
      "Epoch 12/100\n",
      "50000/50000 [==============================] - 4s 77us/step - loss: 1.3716 - accuracy: 0.5115 - val_loss: 1.4194 - val_accuracy: 0.4956\n",
      "Epoch 13/100\n",
      "50000/50000 [==============================] - 4s 78us/step - loss: 1.3471 - accuracy: 0.5177 - val_loss: 1.4470 - val_accuracy: 0.4871\n",
      "Epoch 14/100\n",
      "50000/50000 [==============================] - 4s 78us/step - loss: 1.3284 - accuracy: 0.5231 - val_loss: 1.4240 - val_accuracy: 0.4938\n",
      "Epoch 15/100\n",
      "50000/50000 [==============================] - 4s 78us/step - loss: 1.3025 - accuracy: 0.5348 - val_loss: 1.3987 - val_accuracy: 0.5045\n",
      "Epoch 16/100\n",
      "50000/50000 [==============================] - 4s 78us/step - loss: 1.2854 - accuracy: 0.5417 - val_loss: 1.3871 - val_accuracy: 0.5055\n",
      "Epoch 17/100\n",
      "50000/50000 [==============================] - 4s 78us/step - loss: 1.2605 - accuracy: 0.5504 - val_loss: 1.3984 - val_accuracy: 0.5054\n",
      "Epoch 18/100\n",
      "50000/50000 [==============================] - 4s 78us/step - loss: 1.2353 - accuracy: 0.5564 - val_loss: 1.3846 - val_accuracy: 0.5108\n",
      "Epoch 19/100\n",
      "50000/50000 [==============================] - 4s 78us/step - loss: 1.2245 - accuracy: 0.5616 - val_loss: 1.3718 - val_accuracy: 0.5238\n",
      "Epoch 20/100\n",
      "50000/50000 [==============================] - 4s 78us/step - loss: 1.2037 - accuracy: 0.5702 - val_loss: 1.4108 - val_accuracy: 0.5065\n",
      "Epoch 21/100\n",
      "50000/50000 [==============================] - 4s 78us/step - loss: 1.1934 - accuracy: 0.5720 - val_loss: 1.3845 - val_accuracy: 0.5182\n",
      "Epoch 22/100\n",
      "50000/50000 [==============================] - 4s 78us/step - loss: 1.1696 - accuracy: 0.5812 - val_loss: 1.3864 - val_accuracy: 0.5120\n",
      "Epoch 23/100\n",
      "50000/50000 [==============================] - 4s 78us/step - loss: 1.1405 - accuracy: 0.5912 - val_loss: 1.3691 - val_accuracy: 0.5202\n",
      "Epoch 24/100\n",
      "50000/50000 [==============================] - 4s 79us/step - loss: 1.1214 - accuracy: 0.5974 - val_loss: 1.4555 - val_accuracy: 0.5080\n",
      "Epoch 25/100\n",
      "50000/50000 [==============================] - 4s 79us/step - loss: 1.1069 - accuracy: 0.6045 - val_loss: 1.4053 - val_accuracy: 0.5169\n",
      "Epoch 26/100\n",
      "50000/50000 [==============================] - 4s 79us/step - loss: 1.0931 - accuracy: 0.6111 - val_loss: 1.3959 - val_accuracy: 0.5184\n",
      "Epoch 27/100\n",
      "50000/50000 [==============================] - 4s 78us/step - loss: 1.0767 - accuracy: 0.6145 - val_loss: 1.4271 - val_accuracy: 0.5099\n",
      "Epoch 28/100\n",
      "50000/50000 [==============================] - 4s 79us/step - loss: 1.0507 - accuracy: 0.6259 - val_loss: 1.4044 - val_accuracy: 0.5258\n",
      "Epoch 29/100\n",
      "50000/50000 [==============================] - 4s 78us/step - loss: 1.0365 - accuracy: 0.6276 - val_loss: 1.4225 - val_accuracy: 0.5168\n",
      "Epoch 30/100\n",
      "50000/50000 [==============================] - 4s 79us/step - loss: 1.0197 - accuracy: 0.6344 - val_loss: 1.4303 - val_accuracy: 0.5247\n",
      "Epoch 31/100\n",
      "50000/50000 [==============================] - 4s 82us/step - loss: 0.9995 - accuracy: 0.6449 - val_loss: 1.4380 - val_accuracy: 0.5156\n",
      "Epoch 32/100\n",
      "50000/50000 [==============================] - 5s 91us/step - loss: 0.9855 - accuracy: 0.6470 - val_loss: 1.4169 - val_accuracy: 0.5262\n",
      "Epoch 33/100\n",
      "50000/50000 [==============================] - 4s 89us/step - loss: 0.9590 - accuracy: 0.6571 - val_loss: 1.4588 - val_accuracy: 0.5234\n",
      "Epoch 34/100\n",
      "50000/50000 [==============================] - 4s 87us/step - loss: 0.9592 - accuracy: 0.6598 - val_loss: 1.4504 - val_accuracy: 0.5253\n",
      "Epoch 35/100\n",
      "50000/50000 [==============================] - 4s 82us/step - loss: 0.9373 - accuracy: 0.6671 - val_loss: 1.5050 - val_accuracy: 0.5188\n",
      "Epoch 36/100\n",
      "50000/50000 [==============================] - 4s 82us/step - loss: 0.9152 - accuracy: 0.6706 - val_loss: 1.5000 - val_accuracy: 0.5236\n",
      "Epoch 37/100\n",
      "50000/50000 [==============================] - 4s 82us/step - loss: 0.8957 - accuracy: 0.6779 - val_loss: 1.4960 - val_accuracy: 0.5233\n",
      "Epoch 38/100\n",
      "50000/50000 [==============================] - 4s 83us/step - loss: 0.8941 - accuracy: 0.6811 - val_loss: 1.5005 - val_accuracy: 0.5229\n",
      "Epoch 39/100\n",
      "50000/50000 [==============================] - 4s 81us/step - loss: 0.8696 - accuracy: 0.6887 - val_loss: 1.5005 - val_accuracy: 0.5196\n",
      "Epoch 40/100\n",
      "50000/50000 [==============================] - 4s 82us/step - loss: 0.8594 - accuracy: 0.6903 - val_loss: 1.5656 - val_accuracy: 0.5228\n",
      "Epoch 41/100\n",
      "50000/50000 [==============================] - 4s 80us/step - loss: 0.8411 - accuracy: 0.6983 - val_loss: 1.5271 - val_accuracy: 0.5225\n",
      "Epoch 42/100\n",
      "50000/50000 [==============================] - 4s 85us/step - loss: 0.8243 - accuracy: 0.7039 - val_loss: 1.5745 - val_accuracy: 0.5216\n",
      "Epoch 43/100\n",
      "50000/50000 [==============================] - 4s 84us/step - loss: 0.8061 - accuracy: 0.7114 - val_loss: 1.6253 - val_accuracy: 0.5089\n",
      "Epoch 44/100\n",
      "50000/50000 [==============================] - 4s 81us/step - loss: 0.7891 - accuracy: 0.7178 - val_loss: 1.6615 - val_accuracy: 0.5136\n",
      "Epoch 45/100\n",
      "50000/50000 [==============================] - 4s 83us/step - loss: 0.7811 - accuracy: 0.7217 - val_loss: 1.6561 - val_accuracy: 0.5119\n",
      "Epoch 46/100\n",
      "50000/50000 [==============================] - 4s 85us/step - loss: 0.7746 - accuracy: 0.7231 - val_loss: 1.6600 - val_accuracy: 0.5213\n",
      "Epoch 47/100\n",
      "50000/50000 [==============================] - 4s 81us/step - loss: 0.7521 - accuracy: 0.7288 - val_loss: 1.6589 - val_accuracy: 0.5165\n",
      "Epoch 48/100\n",
      "50000/50000 [==============================] - 4s 85us/step - loss: 0.7434 - accuracy: 0.7338 - val_loss: 1.7051 - val_accuracy: 0.5056\n",
      "Epoch 49/100\n",
      "50000/50000 [==============================] - 4s 83us/step - loss: 0.7338 - accuracy: 0.7360 - val_loss: 1.7220 - val_accuracy: 0.5063\n",
      "Epoch 50/100\n",
      "50000/50000 [==============================] - 4s 79us/step - loss: 0.7152 - accuracy: 0.7431 - val_loss: 1.7153 - val_accuracy: 0.5144\n",
      "Epoch 51/100\n",
      "50000/50000 [==============================] - 4s 79us/step - loss: 0.7124 - accuracy: 0.7441 - val_loss: 1.7211 - val_accuracy: 0.5185\n",
      "Epoch 52/100\n",
      "50000/50000 [==============================] - 4s 79us/step - loss: 0.6949 - accuracy: 0.7484 - val_loss: 1.7577 - val_accuracy: 0.5145\n",
      "Epoch 53/100\n",
      "50000/50000 [==============================] - 4s 78us/step - loss: 0.6810 - accuracy: 0.7559 - val_loss: 1.7530 - val_accuracy: 0.5163\n",
      "Epoch 54/100\n",
      "50000/50000 [==============================] - 4s 78us/step - loss: 0.6706 - accuracy: 0.7610 - val_loss: 1.7744 - val_accuracy: 0.5123\n",
      "Epoch 55/100\n",
      "50000/50000 [==============================] - 4s 79us/step - loss: 0.6760 - accuracy: 0.7564 - val_loss: 1.8228 - val_accuracy: 0.5052\n",
      "Epoch 56/100\n",
      "50000/50000 [==============================] - 4s 80us/step - loss: 0.6584 - accuracy: 0.7619 - val_loss: 1.8350 - val_accuracy: 0.5081\n",
      "Epoch 57/100\n",
      "50000/50000 [==============================] - 4s 79us/step - loss: 0.6389 - accuracy: 0.7720 - val_loss: 1.9174 - val_accuracy: 0.5059\n",
      "Epoch 58/100\n",
      "50000/50000 [==============================] - 4s 79us/step - loss: 0.6427 - accuracy: 0.7694 - val_loss: 1.8849 - val_accuracy: 0.5100\n",
      "Epoch 59/100\n",
      "50000/50000 [==============================] - 4s 79us/step - loss: 0.6396 - accuracy: 0.7702 - val_loss: 1.9464 - val_accuracy: 0.5042\n",
      "Epoch 60/100\n",
      "50000/50000 [==============================] - 4s 79us/step - loss: 0.5978 - accuracy: 0.7856 - val_loss: 1.9826 - val_accuracy: 0.5046\n",
      "Epoch 61/100\n",
      "50000/50000 [==============================] - 4s 79us/step - loss: 0.5849 - accuracy: 0.7916 - val_loss: 2.0019 - val_accuracy: 0.5074\n",
      "Epoch 62/100\n",
      "50000/50000 [==============================] - 4s 80us/step - loss: 0.5960 - accuracy: 0.7864 - val_loss: 2.0515 - val_accuracy: 0.4973\n",
      "Epoch 63/100\n",
      "50000/50000 [==============================] - 4s 79us/step - loss: 0.5818 - accuracy: 0.7917 - val_loss: 1.9921 - val_accuracy: 0.5117\n",
      "Epoch 64/100\n",
      "50000/50000 [==============================] - 4s 79us/step - loss: 0.5767 - accuracy: 0.7940 - val_loss: 2.0091 - val_accuracy: 0.5083\n",
      "Epoch 65/100\n",
      "50000/50000 [==============================] - 4s 79us/step - loss: 0.5561 - accuracy: 0.7986 - val_loss: 2.0794 - val_accuracy: 0.5091\n",
      "Epoch 66/100\n",
      "50000/50000 [==============================] - 4s 79us/step - loss: 0.5518 - accuracy: 0.8010 - val_loss: 2.1291 - val_accuracy: 0.5046\n",
      "Epoch 67/100\n",
      "50000/50000 [==============================] - 4s 79us/step - loss: 0.5367 - accuracy: 0.8071 - val_loss: 2.1495 - val_accuracy: 0.4961\n",
      "Epoch 68/100\n",
      "50000/50000 [==============================] - 4s 79us/step - loss: 0.5612 - accuracy: 0.8002 - val_loss: 2.1626 - val_accuracy: 0.5043\n",
      "Epoch 69/100\n",
      "50000/50000 [==============================] - 4s 79us/step - loss: 0.5260 - accuracy: 0.8118 - val_loss: 2.1678 - val_accuracy: 0.5030\n",
      "Epoch 70/100\n",
      "50000/50000 [==============================] - 4s 80us/step - loss: 0.5318 - accuracy: 0.8085 - val_loss: 2.1966 - val_accuracy: 0.4946\n",
      "Epoch 71/100\n",
      "50000/50000 [==============================] - 4s 82us/step - loss: 0.5116 - accuracy: 0.8170 - val_loss: 2.2278 - val_accuracy: 0.5054\n",
      "Epoch 72/100\n",
      "50000/50000 [==============================] - 4s 84us/step - loss: 0.5145 - accuracy: 0.8142 - val_loss: 2.2537 - val_accuracy: 0.5030\n",
      "Epoch 73/100\n",
      "50000/50000 [==============================] - 5s 90us/step - loss: 0.4942 - accuracy: 0.8230 - val_loss: 2.2280 - val_accuracy: 0.5010\n",
      "Epoch 74/100\n",
      "50000/50000 [==============================] - 4s 85us/step - loss: 0.4871 - accuracy: 0.8263 - val_loss: 2.3157 - val_accuracy: 0.4977\n",
      "Epoch 75/100\n",
      "50000/50000 [==============================] - 4s 84us/step - loss: 0.4987 - accuracy: 0.8203 - val_loss: 2.2989 - val_accuracy: 0.4948\n",
      "Epoch 76/100\n",
      "50000/50000 [==============================] - 4s 81us/step - loss: 0.4722 - accuracy: 0.8306 - val_loss: 2.3365 - val_accuracy: 0.4924\n",
      "Epoch 77/100\n",
      "50000/50000 [==============================] - 4s 80us/step - loss: 0.4692 - accuracy: 0.8301 - val_loss: 2.3835 - val_accuracy: 0.5003\n",
      "Epoch 78/100\n",
      "50000/50000 [==============================] - 4s 80us/step - loss: 0.4805 - accuracy: 0.8290 - val_loss: 2.4063 - val_accuracy: 0.5000\n",
      "Epoch 79/100\n",
      "50000/50000 [==============================] - 4s 80us/step - loss: 0.4659 - accuracy: 0.8327 - val_loss: 2.3844 - val_accuracy: 0.5028\n",
      "Epoch 80/100\n",
      "50000/50000 [==============================] - 4s 84us/step - loss: 0.4406 - accuracy: 0.8412 - val_loss: 2.4712 - val_accuracy: 0.4951\n",
      "Epoch 81/100\n",
      "50000/50000 [==============================] - 4s 81us/step - loss: 0.4332 - accuracy: 0.8454 - val_loss: 2.4481 - val_accuracy: 0.5055\n",
      "Epoch 82/100\n",
      "50000/50000 [==============================] - 4s 80us/step - loss: 0.4303 - accuracy: 0.8459 - val_loss: 2.5381 - val_accuracy: 0.4905\n",
      "Epoch 83/100\n",
      "50000/50000 [==============================] - 4s 81us/step - loss: 0.4380 - accuracy: 0.8435 - val_loss: 2.6292 - val_accuracy: 0.4930\n",
      "Epoch 84/100\n",
      "50000/50000 [==============================] - 4s 81us/step - loss: 0.4398 - accuracy: 0.8426 - val_loss: 2.6569 - val_accuracy: 0.4953\n",
      "Epoch 85/100\n",
      "50000/50000 [==============================] - 4s 80us/step - loss: 0.4146 - accuracy: 0.8511 - val_loss: 2.5745 - val_accuracy: 0.5024\n",
      "Epoch 86/100\n",
      "50000/50000 [==============================] - 4s 81us/step - loss: 0.4454 - accuracy: 0.8413 - val_loss: 2.5842 - val_accuracy: 0.5019\n",
      "Epoch 87/100\n",
      "50000/50000 [==============================] - 4s 80us/step - loss: 0.4082 - accuracy: 0.8534 - val_loss: 2.6801 - val_accuracy: 0.4983\n",
      "Epoch 88/100\n",
      "50000/50000 [==============================] - 4s 80us/step - loss: 0.3880 - accuracy: 0.8613 - val_loss: 2.7616 - val_accuracy: 0.5031\n",
      "Epoch 89/100\n",
      "50000/50000 [==============================] - 4s 80us/step - loss: 0.3979 - accuracy: 0.8573 - val_loss: 2.7573 - val_accuracy: 0.4984\n",
      "Epoch 90/100\n",
      "50000/50000 [==============================] - 4s 79us/step - loss: 0.4283 - accuracy: 0.8457 - val_loss: 2.6921 - val_accuracy: 0.4939\n",
      "Epoch 91/100\n",
      "50000/50000 [==============================] - 4s 80us/step - loss: 0.3882 - accuracy: 0.8619 - val_loss: 2.7194 - val_accuracy: 0.4923\n",
      "Epoch 92/100\n",
      "50000/50000 [==============================] - 4s 80us/step - loss: 0.3551 - accuracy: 0.8726 - val_loss: 2.8630 - val_accuracy: 0.4896\n",
      "Epoch 93/100\n",
      "50000/50000 [==============================] - 4s 81us/step - loss: 0.3988 - accuracy: 0.8560 - val_loss: 2.8280 - val_accuracy: 0.4931\n",
      "Epoch 94/100\n",
      "50000/50000 [==============================] - 4s 80us/step - loss: 0.3648 - accuracy: 0.8697 - val_loss: 2.9269 - val_accuracy: 0.4988\n",
      "Epoch 95/100\n",
      "50000/50000 [==============================] - 4s 82us/step - loss: 0.3990 - accuracy: 0.8567 - val_loss: 2.8505 - val_accuracy: 0.5019\n",
      "Epoch 96/100\n",
      "50000/50000 [==============================] - 4s 83us/step - loss: 0.3543 - accuracy: 0.8727 - val_loss: 2.9667 - val_accuracy: 0.4978\n",
      "Epoch 97/100\n",
      "50000/50000 [==============================] - 4s 81us/step - loss: 0.3667 - accuracy: 0.8668 - val_loss: 2.9765 - val_accuracy: 0.4943\n",
      "Epoch 98/100\n",
      "50000/50000 [==============================] - 4s 81us/step - loss: 0.3565 - accuracy: 0.8740 - val_loss: 2.9055 - val_accuracy: 0.5008\n",
      "Epoch 99/100\n",
      "50000/50000 [==============================] - 4s 81us/step - loss: 0.3515 - accuracy: 0.8749 - val_loss: 2.9554 - val_accuracy: 0.4911\n",
      "Epoch 100/100\n",
      "50000/50000 [==============================] - 4s 80us/step - loss: 0.3637 - accuracy: 0.8693 - val_loss: 3.0344 - val_accuracy: 0.4881\n"
     ]
    },
    {
     "data": {
      "text/plain": [
       "<keras.callbacks.callbacks.History at 0x1c27f9a72e8>"
      ]
     },
     "execution_count": 9,
     "metadata": {},
     "output_type": "execute_result"
    }
   ],
   "source": [
    "model.fit(x_train, y_train, \n",
    "          epochs=EPOCHS, \n",
    "          batch_size=BATCH_SIZE, \n",
    "          validation_data=(x_test, y_test), \n",
    "          shuffle=True)"
   ]
  },
  {
   "cell_type": "code",
   "execution_count": 12,
   "metadata": {},
   "outputs": [
    {
     "data": {
      "image/png": "[encoded data removed]",
      "text/plain": [
       "<Figure size 432x288 with 1 Axes>"
      ]
     },
     "metadata": {
      "needs_background": "light"
     },
     "output_type": "display_data"
    },
    {
     "data": {
      "image/png": "[encoded data removed]",
      "text/plain": [
       "<Figure size 432x288 with 1 Axes>"
      ]
     },
     "metadata": {
      "needs_background": "light"
     },
     "output_type": "display_data"
    }
   ],
   "source": [
    "import matplotlib.pyplot as plt\n",
    "\n",
    "\n",
    "train_loss = model.history.history[\"loss\"]\n",
    "valid_loss = model.history.history[\"val_loss\"]\n",
    "\n",
    "train_acc = model.history.history[\"accuracy\"]\n",
    "valid_acc = model.history.history[\"val_accuracy\"]\n",
    "\n",
    "plt.plot(range(len(train_loss)), train_loss, label=\"train loss\")\n",
    "plt.plot(range(len(valid_loss)), valid_loss, label=\"valid loss\")\n",
    "plt.legend()\n",
    "plt.title(\"Loss\")\n",
    "plt.show()\n",
    "\n",
    "plt.plot(range(len(train_acc)), train_acc, label=\"train accuracy\")\n",
    "plt.plot(range(len(valid_acc)), valid_acc, label=\"valid accuracy\")\n",
    "plt.legend()\n",
    "plt.title(\"Accuracy\")\n",
    "plt.show()"
   ]
  },
  {
   "cell_type": "code",
   "execution_count": null,
   "metadata": {},
   "outputs": [],
   "source": []
  }
 ],
 "metadata": {
  "kernelspec": {
   "display_name": "Python 3",
   "language": "python",
   "name": "python3"
  },
  "language_info": {
   "codemirror_mode": {
    "name": "ipython",
    "version": 3
   },
   "file_extension": ".py",
   "mimetype": "text/x-python",
   "name": "python",
   "nbconvert_exporter": "python",
   "pygments_lexer": "ipython3",
   "version": "3.6.9"
  }
 },
 "nbformat": 4,
 "nbformat_minor": 2
}
