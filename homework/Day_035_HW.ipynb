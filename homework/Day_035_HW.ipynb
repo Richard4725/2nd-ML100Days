{
 "cells": [
  {
   "cell_type": "markdown",
   "metadata": {},
   "source": [
    "## 練習時間\n",
    "相信大家對回歸問題及分類問題都有初步的了解。今天的作業希望大家搜尋有關 multi-label 的案例問題。下圖是電影 \"奇異博士\" 的分類。可以看到同時有 \"Action\", \"Adventure\", \"Fantasy\" 的類別存在，代表這是個多標籤的問題。 "
   ]
  },
  {
   "cell_type": "markdown",
   "metadata": {},
   "source": [
    "![image](https://cdn-images-1.medium.com/max/1000/1*r0gYXMSQf5VhdMyl2bRDyg.png)"
   ]
  },
  {
   "cell_type": "markdown",
   "metadata": {},
   "source": [
    "## 請搜尋目標為多標籤問題 (Multi-label) 的機器學習案例，了解其資料來源、目標以及評估指標為何\n",
    "## Hint: 服飾"
   ]
  },
  {
   "cell_type": "code",
   "execution_count": null,
   "metadata": {
    "collapsed": true
   },
   "outputs": [],
   "source": [
    "https://zhuanlan.zhihu.com/p/39996321\n",
    "\n",
    "資料來源:我正在构建一个时尚图像的搜索引擎，我需要你的帮助。使用我的app，用户可以上传一张他们喜欢的服饰的图片\n",
    "    （如衬衫、裙子、裤子、鞋类），我的系统将会返回相似的物品并附上购买链接.\n",
    "    我们的数据集由2167张图片组成，它们来自6个不同的种类，包括：\n",
    "\n",
    "黑色牛仔裤（344张图片）\n",
    "蓝色裙子（386张图片）\n",
    "蓝色牛仔裤（356张图片）\n",
    "蓝色衬衫（369张图片）\n",
    "红色裙子（380张图片）\n",
    "红色衬衫（332张图片）\n",
    "\n",
    "目標:问题是我需要训练一个分类器来将物品分到不同的类别中：\n",
    "服饰类别：衬衫、裙子、裤子、鞋类等\n",
    "颜色：红、蓝、黑等\n",
    "质地：棉、羊毛、丝、麻等\n",
    "我们的卷积神经网络的目标是同时预测颜色和服饰类别。\n",
    "\n",
    "評估指標:所用到的CNN架构是SmallerVGGNet，一个简化版本的VGGNet。VGGNet最先由Simonyan和Zisserman在他们2014年的论文：\n",
    "    Very Deep Convolutional Networks for Large Scale Image Recognition中提出。\n",
    "    可选参数finalAct（默认值为“softmax”）将会在神经网络底部被应用。将这个值由softmax改为sigmoid将允许我们基于Keras执行多标签分类。\n",
    "请记住这个行为与我们在之前文章中实现的SmallerVGGNet不同——我们在这里加入是为了控制执行简单二分类或者是多类分类。\n",
    "\n",
    "应用Keras执行多标签分类是直观的，它包含两个主要的步骤：\n",
    "1在神經網路的最末端將softmax啟用函式改為sigmoid啟用函式。\n",
    "2將損失函式由分類交叉熵替換為二元交叉熵。\n",
    "    \n"
   ]
  }
 ],
 "metadata": {
  "kernelspec": {
   "display_name": "Python 3",
   "language": "python",
   "name": "python3"
  },
  "language_info": {
   "codemirror_mode": {
    "name": "ipython",
    "version": 3
   },
   "file_extension": ".py",
   "mimetype": "text/x-python",
   "name": "python",
   "nbconvert_exporter": "python",
   "pygments_lexer": "ipython3",
   "version": "3.6.3"
  }
 },
 "nbformat": 4,
 "nbformat_minor": 2
}
