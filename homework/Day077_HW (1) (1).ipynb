{
 "cells": [
  {
   "cell_type": "markdown",
   "metadata": {},
   "source": [
    "## Work\n",
    "1. 請將 Epoch 加到 500 個，並觀察 learning curve 的走勢\n",
    "2. 請將 Optimizer 換成 SGD，並觀察 learning curve 的走勢"
   ]
  },
  {
   "cell_type": "code",
   "execution_count": 9,
   "metadata": {},
   "outputs": [],
   "source": [
    "import os\n",
    "import keras\n",
    "\n",
    "# 本作業可以不需使用 GPU, 將 GPU 設定為 \"無\" (若有 GPU 且想開啟，可設為 \"0\")\n",
    "os.environ[\"CUDA_VISIBLE_DEVICES\"] = \"\""
   ]
  },
  {
   "cell_type": "code",
   "execution_count": 10,
   "metadata": {},
   "outputs": [],
   "source": [
    "# 從 Keras 的內建功能中，取得 train 與 test 資料集\n",
    "train, test = keras.datasets.cifar10.load_data()"
   ]
  },
  {
   "cell_type": "code",
   "execution_count": 11,
   "metadata": {},
   "outputs": [],
   "source": [
    "# 將 X 與 Y 獨立放進變數\n",
    "x_train, y_train = train\n",
    "x_test, y_test = test\n",
    "# 資料前處理 - 標準化\n",
    "x_train = x_train / 255.\n",
    "x_test = x_test / 255.\n",
    "\n",
    "# 將資料從圖形 (RGB) 轉為向量 (Single Vector)\n",
    "x_train = x_train.reshape((len(x_train), -1))\n",
    "x_test = x_test.reshape((len(x_test), -1))\n",
    "\n",
    "# 將目標轉為 one-hot encoding\n",
    "y_train = keras.utils.to_categorical(y_train, num_classes=10)\n",
    "y_test = keras.utils.to_categorical(y_test, num_classes=10)"
   ]
  },
  {
   "cell_type": "code",
   "execution_count": 12,
   "metadata": {},
   "outputs": [],
   "source": [
    "#def build_mlp():\n",
    "\n",
    "    # 建立一個有4層隱藏層之神經網路\n",
    "def build_mlp():\n",
    "    input_layer = keras.layers.Input([x_train.shape[-1]])\n",
    "    x = keras.layers.Dense(units=512, activation=\"relu\")(input_layer)\n",
    "    x = keras.layers.Dense(units=256, activation=\"relu\")(x)\n",
    "    x = keras.layers.Dense(units=128, activation=\"relu\")(x)\n",
    "    x = keras.layers.Dense(units=64, activation=\"relu\")(x)\n",
    "    out = keras.layers.Dense(units=10, activation=\"softmax\")(x)\n",
    "    \n",
    "    model = keras.models.Model(inputs=[input_layer], outputs=[out])\n",
    "    return model\n",
    "      \n",
    "   \n",
    "\n"
   ]
  },
  {
   "cell_type": "code",
   "execution_count": 13,
   "metadata": {},
   "outputs": [
    {
     "name": "stdout",
     "output_type": "stream",
     "text": [
      "Model: \"model_2\"\n",
      "_________________________________________________________________\n",
      "Layer (type)                 Output Shape              Param #   \n",
      "=================================================================\n",
      "input_2 (InputLayer)         (None, 3072)              0         \n",
      "_________________________________________________________________\n",
      "dense_6 (Dense)              (None, 512)               1573376   \n",
      "_________________________________________________________________\n",
      "dense_7 (Dense)              (None, 256)               131328    \n",
      "_________________________________________________________________\n",
      "dense_8 (Dense)              (None, 128)               32896     \n",
      "_________________________________________________________________\n",
      "dense_9 (Dense)              (None, 64)                8256      \n",
      "_________________________________________________________________\n",
      "dense_10 (Dense)             (None, 10)                650       \n",
      "=================================================================\n",
      "Total params: 1,746,506\n",
      "Trainable params: 1,746,506\n",
      "Non-trainable params: 0\n",
      "_________________________________________________________________\n"
     ]
    }
   ],
   "source": [
    "\"\"\"\n",
    "Compile 模型\n",
    "\"\"\"\n",
    "model = build_mlp()\n",
    "# 用 Keras 內建方法檢視模型各層參數量\n",
    "model.summary()\n",
    "\n",
    "optimizer = keras.optimizers.sgd(lr=0.001)\n",
    "model.compile(loss=\"categorical_crossentropy\", metrics=[\"accuracy\"], optimizer=optimizer)"
   ]
  },
  {
   "cell_type": "code",
   "execution_count": 14,
   "metadata": {
    "scrolled": true
   },
   "outputs": [
    {
     "name": "stdout",
     "output_type": "stream",
     "text": [
      "Train on 50000 samples, validate on 10000 samples\n",
      "Epoch 1/100\n",
      "50000/50000 [==============================] - 3s 65us/step - loss: 2.2804 - accuracy: 0.1461 - val_loss: 2.2491 - val_accuracy: 0.1847\n",
      "Epoch 2/100\n",
      "50000/50000 [==============================] - 3s 63us/step - loss: 2.2210 - accuracy: 0.2092 - val_loss: 2.1973 - val_accuracy: 0.2166\n",
      "Epoch 3/100\n",
      "50000/50000 [==============================] - 3s 63us/step - loss: 2.1728 - accuracy: 0.2308 - val_loss: 2.1514 - val_accuracy: 0.2348\n",
      "Epoch 4/100\n",
      "50000/50000 [==============================] - 3s 64us/step - loss: 2.1290 - accuracy: 0.2458 - val_loss: 2.1095 - val_accuracy: 0.2489\n",
      "Epoch 5/100\n",
      "50000/50000 [==============================] - 3s 66us/step - loss: 2.0888 - accuracy: 0.2583 - val_loss: 2.0717 - val_accuracy: 0.2592\n",
      "Epoch 6/100\n",
      "50000/50000 [==============================] - 3s 63us/step - loss: 2.0529 - accuracy: 0.2690 - val_loss: 2.0376 - val_accuracy: 0.2737\n",
      "Epoch 7/100\n",
      "50000/50000 [==============================] - 3s 64us/step - loss: 2.0211 - accuracy: 0.2804 - val_loss: 2.0067 - val_accuracy: 0.2850\n",
      "Epoch 8/100\n",
      "50000/50000 [==============================] - 3s 63us/step - loss: 1.9920 - accuracy: 0.2919 - val_loss: 1.9795 - val_accuracy: 0.3008\n",
      "Epoch 9/100\n",
      "50000/50000 [==============================] - 3s 63us/step - loss: 1.9675 - accuracy: 0.3021 - val_loss: 1.9572 - val_accuracy: 0.3112\n",
      "Epoch 10/100\n",
      "50000/50000 [==============================] - 3s 63us/step - loss: 1.9467 - accuracy: 0.3102 - val_loss: 1.9389 - val_accuracy: 0.3119\n",
      "Epoch 11/100\n",
      "50000/50000 [==============================] - 3s 63us/step - loss: 1.9288 - accuracy: 0.3175 - val_loss: 1.9208 - val_accuracy: 0.3218\n",
      "Epoch 12/100\n",
      "50000/50000 [==============================] - 3s 63us/step - loss: 1.9128 - accuracy: 0.3236 - val_loss: 1.9063 - val_accuracy: 0.3286\n",
      "Epoch 13/100\n",
      "50000/50000 [==============================] - 3s 63us/step - loss: 1.8984 - accuracy: 0.3283 - val_loss: 1.8949 - val_accuracy: 0.3270\n",
      "Epoch 14/100\n",
      "50000/50000 [==============================] - 3s 63us/step - loss: 1.8858 - accuracy: 0.3336 - val_loss: 1.8811 - val_accuracy: 0.3356\n",
      "Epoch 15/100\n",
      "50000/50000 [==============================] - 3s 63us/step - loss: 1.8744 - accuracy: 0.3378 - val_loss: 1.8708 - val_accuracy: 0.3402\n",
      "Epoch 16/100\n",
      "50000/50000 [==============================] - 3s 63us/step - loss: 1.8640 - accuracy: 0.3420 - val_loss: 1.8616 - val_accuracy: 0.3416\n",
      "Epoch 17/100\n",
      "50000/50000 [==============================] - 3s 63us/step - loss: 1.8547 - accuracy: 0.3440 - val_loss: 1.8514 - val_accuracy: 0.3432\n",
      "Epoch 18/100\n",
      "50000/50000 [==============================] - 3s 63us/step - loss: 1.8460 - accuracy: 0.3483 - val_loss: 1.8430 - val_accuracy: 0.3499\n",
      "Epoch 19/100\n",
      "50000/50000 [==============================] - 3s 62us/step - loss: 1.8378 - accuracy: 0.3506 - val_loss: 1.8371 - val_accuracy: 0.3494\n",
      "Epoch 20/100\n",
      "50000/50000 [==============================] - 3s 63us/step - loss: 1.8297 - accuracy: 0.3543 - val_loss: 1.8277 - val_accuracy: 0.3524\n",
      "Epoch 21/100\n",
      "50000/50000 [==============================] - 3s 63us/step - loss: 1.8221 - accuracy: 0.3574 - val_loss: 1.8226 - val_accuracy: 0.3565\n",
      "Epoch 22/100\n",
      "50000/50000 [==============================] - 3s 63us/step - loss: 1.8149 - accuracy: 0.3604 - val_loss: 1.8140 - val_accuracy: 0.3595\n",
      "Epoch 23/100\n",
      "50000/50000 [==============================] - 3s 63us/step - loss: 1.8081 - accuracy: 0.3625 - val_loss: 1.8061 - val_accuracy: 0.3584\n",
      "Epoch 24/100\n",
      "50000/50000 [==============================] - 3s 64us/step - loss: 1.8013 - accuracy: 0.3673 - val_loss: 1.7998 - val_accuracy: 0.3634\n",
      "Epoch 25/100\n",
      "50000/50000 [==============================] - 3s 63us/step - loss: 1.7950 - accuracy: 0.3688 - val_loss: 1.7936 - val_accuracy: 0.3627\n",
      "Epoch 26/100\n",
      "50000/50000 [==============================] - 3s 63us/step - loss: 1.7888 - accuracy: 0.3709 - val_loss: 1.7874 - val_accuracy: 0.3655\n",
      "Epoch 27/100\n",
      "50000/50000 [==============================] - 3s 63us/step - loss: 1.7824 - accuracy: 0.3736 - val_loss: 1.7861 - val_accuracy: 0.3689\n",
      "Epoch 28/100\n",
      "50000/50000 [==============================] - 3s 64us/step - loss: 1.7768 - accuracy: 0.3760 - val_loss: 1.7751 - val_accuracy: 0.3686\n",
      "Epoch 29/100\n",
      "50000/50000 [==============================] - 3s 63us/step - loss: 1.7708 - accuracy: 0.3773 - val_loss: 1.7696 - val_accuracy: 0.3751\n",
      "Epoch 30/100\n",
      "50000/50000 [==============================] - 3s 63us/step - loss: 1.7650 - accuracy: 0.3806 - val_loss: 1.7634 - val_accuracy: 0.3750\n",
      "Epoch 31/100\n",
      "50000/50000 [==============================] - 3s 62us/step - loss: 1.7597 - accuracy: 0.3827 - val_loss: 1.7638 - val_accuracy: 0.3755\n",
      "Epoch 32/100\n",
      "50000/50000 [==============================] - 3s 62us/step - loss: 1.7545 - accuracy: 0.3825 - val_loss: 1.7534 - val_accuracy: 0.3792\n",
      "Epoch 33/100\n",
      "50000/50000 [==============================] - 3s 63us/step - loss: 1.7493 - accuracy: 0.3858 - val_loss: 1.7573 - val_accuracy: 0.3828\n",
      "Epoch 34/100\n",
      "50000/50000 [==============================] - 3s 63us/step - loss: 1.7442 - accuracy: 0.3874 - val_loss: 1.7443 - val_accuracy: 0.3814\n",
      "Epoch 35/100\n",
      "50000/50000 [==============================] - 3s 62us/step - loss: 1.7391 - accuracy: 0.3892 - val_loss: 1.7438 - val_accuracy: 0.3861\n",
      "Epoch 36/100\n",
      "50000/50000 [==============================] - 3s 62us/step - loss: 1.7346 - accuracy: 0.3903 - val_loss: 1.7354 - val_accuracy: 0.3853\n",
      "Epoch 37/100\n",
      "50000/50000 [==============================] - 3s 62us/step - loss: 1.7294 - accuracy: 0.3914 - val_loss: 1.7340 - val_accuracy: 0.3869\n",
      "Epoch 38/100\n",
      "50000/50000 [==============================] - 3s 63us/step - loss: 1.7248 - accuracy: 0.3943 - val_loss: 1.7244 - val_accuracy: 0.3922\n",
      "Epoch 39/100\n",
      "50000/50000 [==============================] - 3s 62us/step - loss: 1.7201 - accuracy: 0.3959 - val_loss: 1.7210 - val_accuracy: 0.3943\n",
      "Epoch 40/100\n",
      "50000/50000 [==============================] - 3s 63us/step - loss: 1.7154 - accuracy: 0.3985 - val_loss: 1.7165 - val_accuracy: 0.3945\n",
      "Epoch 41/100\n",
      "50000/50000 [==============================] - 3s 63us/step - loss: 1.7114 - accuracy: 0.3980 - val_loss: 1.7114 - val_accuracy: 0.3966\n",
      "Epoch 42/100\n",
      "50000/50000 [==============================] - 3s 63us/step - loss: 1.7070 - accuracy: 0.4003 - val_loss: 1.7072 - val_accuracy: 0.3981\n",
      "Epoch 43/100\n",
      "50000/50000 [==============================] - 3s 63us/step - loss: 1.7025 - accuracy: 0.4009 - val_loss: 1.7062 - val_accuracy: 0.3975\n",
      "Epoch 44/100\n",
      "50000/50000 [==============================] - 3s 63us/step - loss: 1.6984 - accuracy: 0.4025 - val_loss: 1.7054 - val_accuracy: 0.3966\n",
      "Epoch 45/100\n",
      "50000/50000 [==============================] - 3s 62us/step - loss: 1.6944 - accuracy: 0.4036 - val_loss: 1.6965 - val_accuracy: 0.4039\n",
      "Epoch 46/100\n",
      "50000/50000 [==============================] - 3s 62us/step - loss: 1.6903 - accuracy: 0.4044 - val_loss: 1.6915 - val_accuracy: 0.4039\n",
      "Epoch 47/100\n",
      "50000/50000 [==============================] - 3s 63us/step - loss: 1.6864 - accuracy: 0.4083 - val_loss: 1.6913 - val_accuracy: 0.4027\n",
      "Epoch 48/100\n",
      "50000/50000 [==============================] - 3s 63us/step - loss: 1.6824 - accuracy: 0.4069 - val_loss: 1.6846 - val_accuracy: 0.4042\n",
      "Epoch 49/100\n",
      "50000/50000 [==============================] - 3s 63us/step - loss: 1.6785 - accuracy: 0.4102 - val_loss: 1.6933 - val_accuracy: 0.3984\n",
      "Epoch 50/100\n",
      "50000/50000 [==============================] - 3s 63us/step - loss: 1.6748 - accuracy: 0.4113 - val_loss: 1.6818 - val_accuracy: 0.4045\n",
      "Epoch 51/100\n",
      "50000/50000 [==============================] - 3s 66us/step - loss: 1.6710 - accuracy: 0.4121 - val_loss: 1.6752 - val_accuracy: 0.4065\n",
      "Epoch 52/100\n",
      "50000/50000 [==============================] - 3s 63us/step - loss: 1.6671 - accuracy: 0.4126 - val_loss: 1.6706 - val_accuracy: 0.4072\n",
      "Epoch 53/100\n",
      "50000/50000 [==============================] - 3s 63us/step - loss: 1.6635 - accuracy: 0.4148 - val_loss: 1.6708 - val_accuracy: 0.4082\n",
      "Epoch 54/100\n",
      "50000/50000 [==============================] - 3s 63us/step - loss: 1.6599 - accuracy: 0.4166 - val_loss: 1.6653 - val_accuracy: 0.4132\n",
      "Epoch 55/100\n",
      "50000/50000 [==============================] - 3s 63us/step - loss: 1.6566 - accuracy: 0.4168 - val_loss: 1.6654 - val_accuracy: 0.4106\n",
      "Epoch 56/100\n",
      "50000/50000 [==============================] - 3s 63us/step - loss: 1.6527 - accuracy: 0.4178 - val_loss: 1.6609 - val_accuracy: 0.4111\n",
      "Epoch 57/100\n",
      "50000/50000 [==============================] - 3s 63us/step - loss: 1.6491 - accuracy: 0.4202 - val_loss: 1.6549 - val_accuracy: 0.4129\n",
      "Epoch 58/100\n",
      "50000/50000 [==============================] - 3s 62us/step - loss: 1.6458 - accuracy: 0.4216 - val_loss: 1.6549 - val_accuracy: 0.4152\n",
      "Epoch 59/100\n",
      "50000/50000 [==============================] - 3s 63us/step - loss: 1.6421 - accuracy: 0.4226 - val_loss: 1.6497 - val_accuracy: 0.4167\n",
      "Epoch 60/100\n",
      "50000/50000 [==============================] - 3s 63us/step - loss: 1.6386 - accuracy: 0.4234 - val_loss: 1.6463 - val_accuracy: 0.4164\n",
      "Epoch 61/100\n",
      "50000/50000 [==============================] - 3s 63us/step - loss: 1.6356 - accuracy: 0.4247 - val_loss: 1.6454 - val_accuracy: 0.4191\n",
      "Epoch 62/100\n",
      "50000/50000 [==============================] - 3s 63us/step - loss: 1.6323 - accuracy: 0.4262 - val_loss: 1.6476 - val_accuracy: 0.4190\n",
      "Epoch 63/100\n",
      "50000/50000 [==============================] - 3s 63us/step - loss: 1.6291 - accuracy: 0.4261 - val_loss: 1.6367 - val_accuracy: 0.4198\n",
      "Epoch 64/100\n",
      "50000/50000 [==============================] - 3s 63us/step - loss: 1.6253 - accuracy: 0.4275 - val_loss: 1.6357 - val_accuracy: 0.4216\n",
      "Epoch 65/100\n",
      "50000/50000 [==============================] - 3s 64us/step - loss: 1.6219 - accuracy: 0.4309 - val_loss: 1.6384 - val_accuracy: 0.4209\n",
      "Epoch 66/100\n",
      "50000/50000 [==============================] - 3s 63us/step - loss: 1.6190 - accuracy: 0.4294 - val_loss: 1.6372 - val_accuracy: 0.4217\n",
      "Epoch 67/100\n",
      "50000/50000 [==============================] - 3s 63us/step - loss: 1.6159 - accuracy: 0.4313 - val_loss: 1.6404 - val_accuracy: 0.4202\n",
      "Epoch 68/100\n",
      "50000/50000 [==============================] - 3s 63us/step - loss: 1.6126 - accuracy: 0.4335 - val_loss: 1.6256 - val_accuracy: 0.4235\n",
      "Epoch 69/100\n",
      "50000/50000 [==============================] - 3s 62us/step - loss: 1.6096 - accuracy: 0.4347 - val_loss: 1.6195 - val_accuracy: 0.4269\n",
      "Epoch 70/100\n",
      "50000/50000 [==============================] - 3s 62us/step - loss: 1.6061 - accuracy: 0.4351 - val_loss: 1.6167 - val_accuracy: 0.4273\n",
      "Epoch 71/100\n",
      "50000/50000 [==============================] - 3s 63us/step - loss: 1.6028 - accuracy: 0.4371 - val_loss: 1.6174 - val_accuracy: 0.4253\n",
      "Epoch 72/100\n",
      "50000/50000 [==============================] - 3s 64us/step - loss: 1.6001 - accuracy: 0.4375 - val_loss: 1.6117 - val_accuracy: 0.4283\n",
      "Epoch 73/100\n",
      "50000/50000 [==============================] - 3s 63us/step - loss: 1.5972 - accuracy: 0.4381 - val_loss: 1.6120 - val_accuracy: 0.4257\n",
      "Epoch 74/100\n",
      "50000/50000 [==============================] - 3s 63us/step - loss: 1.5937 - accuracy: 0.4400 - val_loss: 1.6125 - val_accuracy: 0.4250\n",
      "Epoch 75/100\n",
      "50000/50000 [==============================] - 3s 62us/step - loss: 1.5916 - accuracy: 0.4419 - val_loss: 1.6034 - val_accuracy: 0.4295\n",
      "Epoch 76/100\n",
      "50000/50000 [==============================] - 3s 62us/step - loss: 1.5878 - accuracy: 0.4426 - val_loss: 1.6098 - val_accuracy: 0.4295\n",
      "Epoch 77/100\n",
      "50000/50000 [==============================] - 3s 63us/step - loss: 1.5848 - accuracy: 0.4415 - val_loss: 1.6013 - val_accuracy: 0.4317\n",
      "Epoch 78/100\n",
      "50000/50000 [==============================] - 3s 66us/step - loss: 1.5822 - accuracy: 0.4443 - val_loss: 1.6014 - val_accuracy: 0.4292\n",
      "Epoch 79/100\n",
      "50000/50000 [==============================] - 3s 63us/step - loss: 1.5795 - accuracy: 0.4436 - val_loss: 1.5945 - val_accuracy: 0.4319\n",
      "Epoch 80/100\n",
      "50000/50000 [==============================] - 3s 63us/step - loss: 1.5765 - accuracy: 0.4444 - val_loss: 1.5916 - val_accuracy: 0.4353\n",
      "Epoch 81/100\n",
      "50000/50000 [==============================] - 3s 62us/step - loss: 1.5740 - accuracy: 0.4470 - val_loss: 1.5915 - val_accuracy: 0.4336\n",
      "Epoch 82/100\n",
      "50000/50000 [==============================] - 3s 63us/step - loss: 1.5710 - accuracy: 0.4484 - val_loss: 1.5964 - val_accuracy: 0.4304\n",
      "Epoch 83/100\n",
      "50000/50000 [==============================] - 3s 63us/step - loss: 1.5684 - accuracy: 0.4488 - val_loss: 1.5854 - val_accuracy: 0.4331\n",
      "Epoch 84/100\n",
      "50000/50000 [==============================] - 3s 64us/step - loss: 1.5658 - accuracy: 0.4490 - val_loss: 1.5887 - val_accuracy: 0.4340\n",
      "Epoch 85/100\n",
      "50000/50000 [==============================] - 3s 63us/step - loss: 1.5633 - accuracy: 0.4504 - val_loss: 1.5818 - val_accuracy: 0.4377\n",
      "Epoch 86/100\n",
      "50000/50000 [==============================] - 3s 63us/step - loss: 1.5606 - accuracy: 0.4510 - val_loss: 1.5813 - val_accuracy: 0.4363\n",
      "Epoch 87/100\n",
      "50000/50000 [==============================] - 3s 63us/step - loss: 1.5578 - accuracy: 0.4525 - val_loss: 1.5888 - val_accuracy: 0.4369\n",
      "Epoch 88/100\n",
      "50000/50000 [==============================] - 3s 63us/step - loss: 1.5549 - accuracy: 0.4545 - val_loss: 1.5788 - val_accuracy: 0.4353\n",
      "Epoch 89/100\n",
      "50000/50000 [==============================] - 3s 63us/step - loss: 1.5528 - accuracy: 0.4535 - val_loss: 1.5718 - val_accuracy: 0.4415\n",
      "Epoch 90/100\n",
      "50000/50000 [==============================] - 3s 63us/step - loss: 1.5499 - accuracy: 0.4556 - val_loss: 1.5704 - val_accuracy: 0.4385\n",
      "Epoch 91/100\n",
      "50000/50000 [==============================] - 3s 63us/step - loss: 1.5474 - accuracy: 0.4549 - val_loss: 1.5719 - val_accuracy: 0.4404\n",
      "Epoch 92/100\n",
      "50000/50000 [==============================] - 3s 62us/step - loss: 1.5446 - accuracy: 0.4561 - val_loss: 1.5685 - val_accuracy: 0.4429\n",
      "Epoch 93/100\n",
      "50000/50000 [==============================] - 3s 63us/step - loss: 1.5429 - accuracy: 0.4569 - val_loss: 1.5678 - val_accuracy: 0.4431\n",
      "Epoch 94/100\n",
      "50000/50000 [==============================] - 3s 63us/step - loss: 1.5400 - accuracy: 0.4588 - val_loss: 1.5695 - val_accuracy: 0.4431\n",
      "Epoch 95/100\n",
      "50000/50000 [==============================] - 3s 63us/step - loss: 1.5374 - accuracy: 0.4588 - val_loss: 1.5642 - val_accuracy: 0.4399\n",
      "Epoch 96/100\n",
      "50000/50000 [==============================] - 3s 62us/step - loss: 1.5354 - accuracy: 0.4612 - val_loss: 1.5618 - val_accuracy: 0.4410\n",
      "Epoch 97/100\n",
      "50000/50000 [==============================] - 3s 63us/step - loss: 1.5323 - accuracy: 0.4623 - val_loss: 1.5589 - val_accuracy: 0.4466\n",
      "Epoch 98/100\n",
      "50000/50000 [==============================] - 3s 62us/step - loss: 1.5304 - accuracy: 0.4626 - val_loss: 1.5569 - val_accuracy: 0.4458\n",
      "Epoch 99/100\n",
      "50000/50000 [==============================] - 3s 63us/step - loss: 1.5273 - accuracy: 0.4646 - val_loss: 1.5524 - val_accuracy: 0.4458\n",
      "Epoch 100/100\n",
      "50000/50000 [==============================] - 3s 63us/step - loss: 1.5257 - accuracy: 0.4636 - val_loss: 1.5497 - val_accuracy: 0.4484\n"
     ]
    },
    {
     "data": {
      "text/plain": [
       "<keras.callbacks.callbacks.History at 0x21f22733fd0>"
      ]
     },
     "execution_count": 14,
     "metadata": {},
     "output_type": "execute_result"
    }
   ],
   "source": [
    "\"\"\"\n",
    "設定要訓練的 Epoch 數\n",
    "\"\"\"\n",
    "\n",
    "\n",
    "model.fit(x_train, y_train, \n",
    "          epochs=100, \n",
    "          batch_size=256, \n",
    "          validation_data=(x_test, y_test), \n",
    "          shuffle=True)"
   ]
  },
  {
   "cell_type": "code",
   "execution_count": 15,
   "metadata": {},
   "outputs": [
    {
     "data": {
      "image/png": "[encoded data removed]",
      "text/plain": [
       "<Figure size 432x288 with 1 Axes>"
      ]
     },
     "metadata": {
      "needs_background": "light"
     },
     "output_type": "display_data"
    },
    {
     "data": {
      "image/png": "[encoded data removed]",
      "text/plain": [
       "<Figure size 432x288 with 1 Axes>"
      ]
     },
     "metadata": {
      "needs_background": "light"
     },
     "output_type": "display_data"
    }
   ],
   "source": [
    "import matplotlib.pyplot as plt\n",
    "# 以視覺畫方式檢視訓練過程\n",
    "\n",
    "train_loss = model.history.history[\"loss\"]\n",
    "valid_loss = model.history.history[\"val_loss\"]\n",
    "\n",
    "train_acc = model.history.history[\"accuracy\"]\n",
    "valid_acc = model.history.history[\"val_accuracy\"]\n",
    "\n",
    "plt.plot(range(len(train_loss)), train_loss, label=\"train loss\")\n",
    "plt.plot(range(len(valid_loss)), valid_loss, label=\"valid loss\")\n",
    "plt.legend()\n",
    "plt.title(\"Loss\")\n",
    "plt.show()\n",
    "\n",
    "plt.plot(range(len(train_acc)), train_acc, label=\"train accuracy\")\n",
    "plt.plot(range(len(valid_acc)), valid_acc, label=\"valid accuracy\")\n",
    "plt.legend()\n",
    "plt.title(\"Accuracy\")\n",
    "plt.show()"
   ]
  },
  {
   "cell_type": "code",
   "execution_count": null,
   "metadata": {},
   "outputs": [],
   "source": [
    "#1.請將 Epoch 加到 500 個，並觀察 learning curve 的走勢\n",
    "#1.valid loss越來越大,valid accurancy is around 0.5, though training loss 越來越低,training accurancy 雖然越來越高. overfittting\n"
   ]
  },
  {
   "cell_type": "code",
   "execution_count": null,
   "metadata": {},
   "outputs": [],
   "source": [
    "#2.請將 Optimizer 換成 SGD，並觀察 learning curve 的走勢,同樣參數放到SGD,沒有overfittting"
   ]
  }
 ],
 "metadata": {
  "kernelspec": {
   "display_name": "Python 3",
   "language": "python",
   "name": "python3"
  },
  "language_info": {
   "codemirror_mode": {
    "name": "ipython",
    "version": 3
   },
   "file_extension": ".py",
   "mimetype": "text/x-python",
   "name": "python",
   "nbconvert_exporter": "python",
   "pygments_lexer": "ipython3",
   "version": "3.6.9"
  }
 },
 "nbformat": 4,
 "nbformat_minor": 2
}
