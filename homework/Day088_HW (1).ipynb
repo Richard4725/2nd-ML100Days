{
 "cells": [
  {
   "cell_type": "markdown",
   "metadata": {},
   "source": [
    "## Work\n",
    "1. 請嘗試寫一個 callback 用來記錄各類別在訓練過程中，對驗證集的 True Positive 與 True Negative"
   ]
  },
  {
   "cell_type": "code",
   "execution_count": 1,
   "metadata": {},
   "outputs": [
    {
     "name": "stderr",
     "output_type": "stream",
     "text": [
      "Using TensorFlow backend.\n"
     ]
    }
   ],
   "source": [
    "import os\n",
    "import keras\n",
    "\n",
    "# Disable GPU\n",
    "os.environ[\"CUDA_VISIBLE_DEVICES\"] = \"\""
   ]
  },
  {
   "cell_type": "code",
   "execution_count": 2,
   "metadata": {},
   "outputs": [],
   "source": [
    "train, test = keras.datasets.cifar10.load_data()"
   ]
  },
  {
   "cell_type": "code",
   "execution_count": 3,
   "metadata": {},
   "outputs": [],
   "source": [
    "## 資料前處理\n",
    "def preproc_x(x, flatten=True):\n",
    "    x = x / 255.\n",
    "    if flatten:\n",
    "        x = x.reshape((len(x), -1))\n",
    "    return x\n",
    "\n",
    "def preproc_y(y, num_classes=10):\n",
    "    if y.shape[-1] == 1:\n",
    "        y = keras.utils.to_categorical(y, num_classes)\n",
    "    return y    "
   ]
  },
  {
   "cell_type": "code",
   "execution_count": 4,
   "metadata": {},
   "outputs": [],
   "source": [
    "x_train, y_train = train\n",
    "x_test, y_test = test\n",
    "\n",
    "# Preproc the inputs\n",
    "x_train = preproc_x(x_train)\n",
    "x_test = preproc_x(x_test)\n",
    "\n",
    "# Preprc the outputs\n",
    "y_train = preproc_y(y_train)\n",
    "y_test = preproc_y(y_test)"
   ]
  },
  {
   "cell_type": "code",
   "execution_count": 9,
   "metadata": {},
   "outputs": [],
   "source": [
    "from keras.layers import BatchNormalization\n",
    "#def build_mlp(input_shape, output_units=10, num_neurons=[256, 256, 256]):\n",
    "#    \"\"\"Code Here\n",
    "#    建立你的神經網路\n",
    "#    \"\"\"\n",
    "#    return model\n",
    "\n",
    "def build_mlp(input_shape, output_units=10, num_neurons=[512, 256, 128]):\n",
    "    input_layer = keras.layers.Input(input_shape)\n",
    "    \n",
    "    for i, n_units in enumerate(num_neurons):\n",
    "        if i == 0:\n",
    "            x = keras.layers.Dense(units=n_units, \n",
    "                                   activation=\"relu\", \n",
    "                                   name=\"hidden_layer\"+str(i+1))(input_layer)\n",
    "            x = BatchNormalization()(x)\n",
    "        else:\n",
    "            x = keras.layers.Dense(units=n_units, \n",
    "                                   activation=\"relu\", \n",
    "                                   name=\"hidden_layer\"+str(i+1))(x)\n",
    "            x = BatchNormalization()(x)\n",
    "    \n",
    "    out = keras.layers.Dense(units=output_units, activation=\"softmax\", name=\"output\")(x)\n",
    "    \n",
    "    model = keras.models.Model(inputs=[input_layer], outputs=[out])\n",
    "    return model"
   ]
  },
  {
   "cell_type": "code",
   "execution_count": 10,
   "metadata": {},
   "outputs": [],
   "source": [
    "## 超參數設定\n",
    "LEARNING_RATE = 1e-3\n",
    "EPOCHS = 25\n",
    "BATCH_SIZE = 1024\n",
    "MOMENTUM = 0.95"
   ]
  },
  {
   "cell_type": "code",
   "execution_count": 11,
   "metadata": {},
   "outputs": [],
   "source": [
    "# 載入 Callbacks\n",
    "from keras.callbacks import Callback\n",
    "\n",
    "# Record_fp_tp\n",
    "class Record_tp_tn(Callback):\n",
    "     def on_train_begin(self, epoch, logs = {}):\n",
    "        logs = logs or {}\n",
    "        record_items = [ \"val_tp\", \"val_tn\"]\n",
    "        for i in record_items:\n",
    "            if i not in self.params['metrics']:\n",
    "                self.params['metrics'].append(i)\n",
    "                logs[\"rec_tptn\"] = i\n",
    "        \n",
    "rec_tptn = Record_tp_tn()\n",
    "\n",
    "\n",
    "\n"
   ]
  },
  {
   "cell_type": "code",
   "execution_count": 18,
   "metadata": {
    "scrolled": true
   },
   "outputs": [
    {
     "name": "stdout",
     "output_type": "stream",
     "text": [
      "Model: \"model_7\"\n",
      "_________________________________________________________________\n",
      "Layer (type)                 Output Shape              Param #   \n",
      "=================================================================\n",
      "input_8 (InputLayer)         (None, 3072)              0         \n",
      "_________________________________________________________________\n",
      "hidden_layer1 (Dense)        (None, 512)               1573376   \n",
      "_________________________________________________________________\n",
      "batch_normalization_19 (Batc (None, 512)               2048      \n",
      "_________________________________________________________________\n",
      "hidden_layer2 (Dense)        (None, 256)               131328    \n",
      "_________________________________________________________________\n",
      "batch_normalization_20 (Batc (None, 256)               1024      \n",
      "_________________________________________________________________\n",
      "hidden_layer3 (Dense)        (None, 128)               32896     \n",
      "_________________________________________________________________\n",
      "batch_normalization_21 (Batc (None, 128)               512       \n",
      "_________________________________________________________________\n",
      "output (Dense)               (None, 10)                1290      \n",
      "=================================================================\n",
      "Total params: 1,742,474\n",
      "Trainable params: 1,740,682\n",
      "Non-trainable params: 1,792\n",
      "_________________________________________________________________\n",
      "Train on 50000 samples, validate on 10000 samples\n",
      "Epoch 1/25\n",
      "50000/50000 [==============================] - 3s 63us/step - loss: 2.2255 - accuracy: 0.2724 - val_loss: 2.1115 - val_accuracy: 0.2001\n",
      "Epoch 2/25\n",
      "50000/50000 [==============================] - 3s 52us/step - loss: 1.7525 - accuracy: 0.3954 - val_loss: 1.9604 - val_accuracy: 0.3138\n",
      "Epoch 3/25\n",
      "50000/50000 [==============================] - 3s 52us/step - loss: 1.6198 - accuracy: 0.4371 - val_loss: 1.8223 - val_accuracy: 0.3711\n",
      "Epoch 4/25\n",
      "50000/50000 [==============================] - 3s 52us/step - loss: 1.5428 - accuracy: 0.4634 - val_loss: 1.7177 - val_accuracy: 0.4042\n",
      "Epoch 5/25\n",
      "50000/50000 [==============================] - 3s 52us/step - loss: 1.4869 - accuracy: 0.4829 - val_loss: 1.6389 - val_accuracy: 0.4242\n",
      "Epoch 6/25\n",
      "50000/50000 [==============================] - 3s 52us/step - loss: 1.4380 - accuracy: 0.5007 - val_loss: 1.5829 - val_accuracy: 0.4430\n",
      "Epoch 7/25\n",
      "50000/50000 [==============================] - 3s 53us/step - loss: 1.3974 - accuracy: 0.5135 - val_loss: 1.5554 - val_accuracy: 0.4512\n",
      "Epoch 8/25\n",
      "50000/50000 [==============================] - 3s 52us/step - loss: 1.3642 - accuracy: 0.5273 - val_loss: 1.5442 - val_accuracy: 0.4575\n",
      "Epoch 9/25\n",
      "50000/50000 [==============================] - 3s 52us/step - loss: 1.3303 - accuracy: 0.5381 - val_loss: 1.5141 - val_accuracy: 0.4616\n",
      "Epoch 10/25\n",
      "50000/50000 [==============================] - 3s 52us/step - loss: 1.2988 - accuracy: 0.5516 - val_loss: 1.4996 - val_accuracy: 0.4676\n",
      "Epoch 11/25\n",
      "50000/50000 [==============================] - 3s 52us/step - loss: 1.2719 - accuracy: 0.5596 - val_loss: 1.4938 - val_accuracy: 0.4756\n",
      "Epoch 12/25\n",
      "50000/50000 [==============================] - 3s 52us/step - loss: 1.2430 - accuracy: 0.5705 - val_loss: 1.4800 - val_accuracy: 0.4814\n",
      "Epoch 13/25\n",
      "50000/50000 [==============================] - 3s 52us/step - loss: 1.2192 - accuracy: 0.5806 - val_loss: 1.4866 - val_accuracy: 0.4771\n",
      "Epoch 14/25\n",
      "50000/50000 [==============================] - 3s 52us/step - loss: 1.1931 - accuracy: 0.5906 - val_loss: 1.4729 - val_accuracy: 0.4854\n",
      "Epoch 15/25\n",
      "50000/50000 [==============================] - 3s 52us/step - loss: 1.1676 - accuracy: 0.6013 - val_loss: 1.4648 - val_accuracy: 0.4876\n",
      "Epoch 16/25\n",
      "50000/50000 [==============================] - 3s 52us/step - loss: 1.1449 - accuracy: 0.6076 - val_loss: 1.4722 - val_accuracy: 0.4863\n",
      "Epoch 17/25\n",
      "50000/50000 [==============================] - 3s 52us/step - loss: 1.1211 - accuracy: 0.6184 - val_loss: 1.4629 - val_accuracy: 0.4880\n",
      "Epoch 18/25\n",
      "50000/50000 [==============================] - 3s 52us/step - loss: 1.0971 - accuracy: 0.6272 - val_loss: 1.4687 - val_accuracy: 0.4849\n",
      "Epoch 19/25\n",
      "50000/50000 [==============================] - 3s 52us/step - loss: 1.0757 - accuracy: 0.6355 - val_loss: 1.4599 - val_accuracy: 0.4899\n",
      "Epoch 20/25\n",
      "50000/50000 [==============================] - 3s 52us/step - loss: 1.0565 - accuracy: 0.6412 - val_loss: 1.4762 - val_accuracy: 0.4860\n",
      "Epoch 21/25\n",
      "50000/50000 [==============================] - 3s 52us/step - loss: 1.0355 - accuracy: 0.6477 - val_loss: 1.4604 - val_accuracy: 0.4938\n",
      "Epoch 22/25\n",
      "50000/50000 [==============================] - 3s 52us/step - loss: 1.0121 - accuracy: 0.6577 - val_loss: 1.4657 - val_accuracy: 0.4914\n",
      "Epoch 23/25\n",
      "50000/50000 [==============================] - 3s 53us/step - loss: 0.9919 - accuracy: 0.6640 - val_loss: 1.4580 - val_accuracy: 0.4967\n",
      "Epoch 24/25\n",
      "50000/50000 [==============================] - 3s 52us/step - loss: 0.9696 - accuracy: 0.6745 - val_loss: 1.4794 - val_accuracy: 0.4901\n",
      "Epoch 25/25\n",
      "50000/50000 [==============================] - 3s 52us/step - loss: 0.9506 - accuracy: 0.6810 - val_loss: 1.4717 - val_accuracy: 0.4928\n"
     ]
    },
    {
     "ename": "KeyError",
     "evalue": "'val_tp'",
     "output_type": "error",
     "traceback": [
      "\u001b[1;31m---------------------------------------------------------------------------\u001b[0m",
      "\u001b[1;31mKeyError\u001b[0m                                  Traceback (most recent call last)",
      "\u001b[1;32m<ipython-input-18-1c69fadcf46a>\u001b[0m in \u001b[0;36m<module>\u001b[1;34m\u001b[0m\n\u001b[0;32m     24\u001b[0m \u001b[1;31m#\"\"\"\u001b[0m\u001b[1;33m\u001b[0m\u001b[1;33m\u001b[0m\u001b[1;33m\u001b[0m\u001b[0m\n\u001b[0;32m     25\u001b[0m \u001b[1;33m\u001b[0m\u001b[0m\n\u001b[1;32m---> 26\u001b[1;33m \u001b[0mvalid_tp\u001b[0m \u001b[1;33m=\u001b[0m \u001b[0mmodel\u001b[0m\u001b[1;33m.\u001b[0m\u001b[0mhistory\u001b[0m\u001b[1;33m.\u001b[0m\u001b[0mhistory\u001b[0m\u001b[1;33m[\u001b[0m\u001b[1;34m\"val_tp\"\u001b[0m\u001b[1;33m]\u001b[0m\u001b[1;33m\u001b[0m\u001b[1;33m\u001b[0m\u001b[0m\n\u001b[0m\u001b[0;32m     27\u001b[0m \u001b[0mvalid_tn\u001b[0m \u001b[1;33m=\u001b[0m \u001b[0mmodel\u001b[0m\u001b[1;33m.\u001b[0m\u001b[0mhistory\u001b[0m\u001b[1;33m.\u001b[0m\u001b[0mhistory\u001b[0m\u001b[1;33m[\u001b[0m\u001b[1;34m\"val_tn\"\u001b[0m\u001b[1;33m]\u001b[0m\u001b[1;33m\u001b[0m\u001b[1;33m\u001b[0m\u001b[0m\n",
      "\u001b[1;31mKeyError\u001b[0m: 'val_tp'"
     ]
    }
   ],
   "source": [
    "model = build_mlp(input_shape=x_train.shape[1:])\n",
    "model.summary()\n",
    "optimizer = keras.optimizers.SGD(lr=LEARNING_RATE, nesterov=True, momentum=MOMENTUM)\n",
    "model.compile(loss=\"categorical_crossentropy\", metrics=[\"accuracy\"], optimizer=optimizer)\n",
    "\n",
    "model.fit(x_train, y_train, \n",
    "          epochs=EPOCHS, \n",
    "          batch_size=BATCH_SIZE, \n",
    "          validation_data=(x_test, y_test), \n",
    "          shuffle=True,\n",
    "          callbacks=[rec_tptn]\n",
    "         )\n",
    "\n",
    "\n",
    "\n",
    "# Collect results\n",
    "train_loss = model.history.history[\"loss\"]\n",
    "valid_loss = model.history.history[\"val_loss\"]\n",
    "train_acc = model.history.history[\"accuracy\"]\n",
    "valid_acc = model.history.history[\"val_accuracy\"]\n",
    "\n",
    "#\"\"\"Code Here\n",
    "#將 tp/tn 從訓練完的模型中取出\n",
    "#\"\"\"\n",
    "\n",
    "valid_tp = model.history.history[\"val_tp\"]\n",
    "valid_tn = model.history.history[\"val_tn\"]"
   ]
  },
  {
   "cell_type": "code",
   "execution_count": null,
   "metadata": {},
   "outputs": [],
   "source": [
    "import matplotlib.pyplot as plt\n",
    "%matplotlib inline\n",
    "\n",
    "plt.plot(range(len(train_loss)), train_loss, label=\"train loss\")\n",
    "plt.plot(range(len(valid_loss)), valid_loss, label=\"valid loss\")\n",
    "plt.legend()\n",
    "plt.title(\"Loss\")\n",
    "plt.show()\n",
    "\n",
    "plt.plot(range(len(train_acc)), train_acc, label=\"train accuracy\")\n",
    "plt.plot(range(len(valid_acc)), valid_acc, label=\"valid accuracy\")\n",
    "plt.legend()\n",
    "plt.title(\"Accuracy\")\n",
    "plt.show()\n",
    "\n",
    "plt.plot(range(len(valid_tp)), valid_tp, label=\"valid tp\", color=\"navy\")\n",
    "plt.plot(range(len(valid_tn)), valid_tn, label=\"valid tn\", color=\"red\")\n",
    "plt.legend()\n",
    "plt.title(\"True positives and True Negatives\")\n",
    "plt.show()\n"
   ]
  },
  {
   "cell_type": "code",
   "execution_count": null,
   "metadata": {},
   "outputs": [],
   "source": [
    "#?????"
   ]
  }
 ],
 "metadata": {
  "kernelspec": {
   "display_name": "Python 3",
   "language": "python",
   "name": "python3"
  },
  "language_info": {
   "codemirror_mode": {
    "name": "ipython",
    "version": 3
   },
   "file_extension": ".py",
   "mimetype": "text/x-python",
   "name": "python",
   "nbconvert_exporter": "python",
   "pygments_lexer": "ipython3",
   "version": "3.6.9"
  }
 },
 "nbformat": 4,
 "nbformat_minor": 2
}
